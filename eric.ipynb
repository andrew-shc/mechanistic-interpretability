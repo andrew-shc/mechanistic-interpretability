{
 "cells": [
  {
   "cell_type": "code",
   "execution_count": 1,
   "metadata": {},
   "outputs": [],
   "source": [
    "import torch"
   ]
  },
  {
   "cell_type": "code",
   "execution_count": 2,
   "metadata": {},
   "outputs": [
    {
     "name": "stderr",
     "output_type": "stream",
     "text": [
      "Sliding Window Attention is enabled but not implemented for `eager`; unexpected results may be encountered.\n"
     ]
    }
   ],
   "source": [
    "from transformers import AutoTokenizer, AutoModelForCausalLM, pipeline\n",
    "\n",
    "# Load the tokenizer and model\n",
    "tokenizer = AutoTokenizer.from_pretrained(\"deepseek-ai/DeepSeek-R1-Distill-Qwen-1.5B\")\n",
    "model = AutoModelForCausalLM.from_pretrained(\"deepseek-ai/DeepSeek-R1-Distill-Qwen-1.5B\")\n",
    "model = model.to(\"cuda\")"
   ]
  },
  {
   "cell_type": "code",
   "execution_count": 13,
   "metadata": {},
   "outputs": [
    {
     "data": {
      "text/plain": [
       "<module 'interp' from '/workspace/mechanistic-interpretability/interp.py'>"
      ]
     },
     "execution_count": 13,
     "metadata": {},
     "output_type": "execute_result"
    }
   ],
   "source": [
    "import interp\n",
    "import importlib\n",
    "importlib.reload(interp)"
   ]
  },
  {
   "cell_type": "code",
   "execution_count": 4,
   "metadata": {},
   "outputs": [],
   "source": [
    "embed_dim = model.config.hidden_size\n",
    "vocab_size = model.config.vocab_size"
   ]
  },
  {
   "cell_type": "code",
   "execution_count": 5,
   "metadata": {},
   "outputs": [],
   "source": [
    "import torch.nn as nn\n",
    "\n",
    "hidden_sizes = [4 * embed_dim, embed_dim]\n",
    "\n",
    "input_dim = embed_dim\n",
    "layers = []\n",
    "for hidden_size in hidden_sizes:\n",
    "    layers.append(nn.Linear(input_dim, hidden_size))\n",
    "    layers.append(nn.ReLU())\n",
    "    input_dim = hidden_size\n",
    "\n",
    "layers.append(nn.Linear(input_dim, vocab_size))\n",
    "\n",
    "# Define the probe\n",
    "probe = nn.Sequential(*layers)"
   ]
  },
  {
   "cell_type": "code",
   "execution_count": 9,
   "metadata": {},
   "outputs": [],
   "source": [
    "from dataloader import HiddenStateDataset\n",
    "from torch.utils.data import DataLoader\n",
    "\n",
    "dataset = HiddenStateDataset(27, \"data\")"
   ]
  },
  {
   "cell_type": "code",
   "execution_count": 11,
   "metadata": {},
   "outputs": [
    {
     "name": "stderr",
     "output_type": "stream",
     "text": [
      "Epoch 1/10: 100%|██████████| 54/54 [00:21<00:00,  2.50it/s]\n"
     ]
    },
    {
     "name": "stdout",
     "output_type": "stream",
     "text": [
      "Input: <｜User｜>If time were reversible, how would that alter the concept of causality, and what paradoxes would emerge?<｜Assistant｜><think>\n",
      "Okay, so I'm trying to figure out what would happen if time were reversible. I know that time is usually thought of as moving forward, but if it were reversible, it would mean that time could go backward as well. That's a pretty big change because it would mean that events could potentially move backward in time, which would have huge implications for our understanding of causality and the universe itself.\n",
      "\n",
      "First, causality is about cause and effect. I remember that in our universe, if an event happens, the next event has to happen after that one, according to the laws of physics. So if time were reversible, that would mean that events could happen in any order, right? That would mean that if you have an event A and then event B, in reality, B has to happen after A. But if time were reversible, B could happen before A, and then A could happen after B. That would mean that causality is no longer a one-way thing. It would allow for events to influence each other in both directions, which could lead to a lot of paradoxes.\n",
      "\n",
      "I think one of the biggest paradoxes that would come up is the grandfather paradox. That's where a time traveler goes back in time and kills their grandfather, who would then never have a child, so the grandfather never had a child. But in the reversed timeline, the time traveler would have been born before their grandfather, so they could have killed them. That's a problem because it seems like the time traveler's actions would have both causes and effects, which isn't possible. So the paradox would suggest that such a scenario is impossible, which is a way of saying that time reversal isn't possible because it would violate the laws of causality.\n",
      "\n",
      "Another thought is about the arrow of time. We know that time moves in one direction, but if time were reversible, the arrow of time would change. It would mean that all events could happen in either direction, so we wouldn't be able to tell if time is moving forward or backward. That could make our universe a bit more symmetric, but it would also mean that we can't determine the direction of time, which is a bit confusing because we experience time moving forward.\n",
      "\n",
      "I also remember something about the twin paradox in special relativity. If time were reversible, the twin who stays on Earth would age slower than the one who travels at high speeds. But\n",
      "\n",
      "Probe:  confirming confirming unix unix thereinologyINCTologyINCTINCTINCTINCTINCTINCTINCTINCTINCTologyology,X WaveINCTologyINCT сиг矮,X grav }}\n",
      "INCT therein }}\n",
      "INCT }}\n",
      " }}\n",
      " therein therein twistedINCTINCTINCTINCT twisted thereinsexINCT thereinitionitionitionINCT thereinition,X therein therein therein thereinitionINCT therein therein therein therein therein thereinlicalitionipp thereinINCT therein thereinINCT therein therein therein thereinINCT therein twisted twisted twisted twisted twisted twistedition thereinology穿aghetti twisted twisted twistedINCTINCTINCT thereinINCTINCT twistedINCTINCT thereinINCTINCTology thereinINCTINCTINCT twisted twistedINCTINCTINCTINCT twistedsex therein.Cont□INCT twisted.Cont thereinolph twisted twisted twisted thereinINCTaghettiINCT twistedaghetti therein therein therein thereinINCTswing angeINCT therein therein merc twistedINCTitionINCT thereinINCTINCT twisted twisted twisted twisted twisted therein twisted animate therein therein prevent twisted twisted twisted twisted twisted twisted twisted therein therein twisted twistedINCTINCTINCT twisted thereinINCT twistedINCT twistedINCT twisted twistedINCT twisted twistedINCTINCTitionition thereinINCTippsex twistedINCT twisted twisted gorge thereinaghetti/Add twistedINCT twisted thereinINCT Winter therein gorgeINCT twistedsex beiINCTINCT influxINCT therein merc therein矮INCT twistedINCTrecurINCT Waveaghetti therein Wave twisted twisted twisted twistedINCTINCTINCTINCTINCTINCT therein therein therein thereinINCTINCTINCTINCTINCT therein therein thereinologyINCT therein refurbINCTINCT twisted therein Wave thereinINCT,X ·INCT influx animate twisted WinterINCT twistedINCTINCT gorgeeto ·矮 gorgeINCT thereinINCTINCTINCT gorge gorgeINCTINCT therein twisted therein thereinINCTology Wave thereinINCTINCT ·/Addition therein twistedINCT gorge gorgeINCTINCT gorge Winter unfavorINCT twisted therein twisted thereinINCT therein therein twisted therein thereinINCTINCTition therein twistedSUettINCT twisted Wave twistedINCTSUINCTett twisted therein thereinINCT therein therein therein therein therein therein therein therein therein twisted twisted therein thereinINCT thereinitionitionition thereinINCTettition therein twistedSUettINCTINCT thereinINCT therein,X,X therein therein therein refurbINCTINCTINCT(./Add thereinitionitionitionipp influx twistedipp mercINCTitionINCT therein thereinINCTINCTINCT curr/Add therein/Add therein/Add therein.Cont mercitionrecurINCT gorgeology twisted therein thereinINCTINCTINCT therein }}\n",
      "ition Waveitionitionitionition twisted therein twisted merc gorge twisted therein thereinition therein thereinINCT therein twisted therein twisted twisted twistedINCT thereinition thereinitionitionologyINCT thereinition therein/Add therein therein therein thereinition/Addaghettiitionipp twisted therein therein therein thereinINCT merc矮INCT refurb流畅,X gorge therein.Cont thereinINCTINCT therein therein suicidalINCT□工作者etoINCT merc thereinINCTINCT suicidal ·矮 therein animate,Xipp twisted\n",
      "\n",
      "Loss: 0.04440600869970189\n",
      "\n"
     ]
    },
    {
     "name": "stderr",
     "output_type": "stream",
     "text": [
      "Epoch 2/10: 100%|██████████| 54/54 [00:21<00:00,  2.52it/s]\n"
     ]
    },
    {
     "name": "stdout",
     "output_type": "stream",
     "text": [
      "Input: <｜User｜>If time were reversible, how would that alter the concept of causality, and what paradoxes would emerge?<｜Assistant｜><think>\n",
      "Okay, so I'm trying to figure out what would happen if time were reversible. I know that time is usually thought of as moving forward, but if it were reversible, it would mean that time could go backward as well. That's a pretty big change because it would mean that events could potentially move backward in time, which would have huge implications for our understanding of causality and the universe itself.\n",
      "\n",
      "First, causality is about cause and effect. I remember that in our universe, if an event happens, the next event has to happen after that one, according to the laws of physics. So if time were reversible, that would mean that events could happen in any order, right? That would mean that if you have an event A and then event B, in reality, B has to happen after A. But if time were reversible, B could happen before A, and then A could happen after B. That would mean that causality is no longer a one-way thing. It would allow for events to influence each other in both directions, which could lead to a lot of paradoxes.\n",
      "\n",
      "I think one of the biggest paradoxes that would come up is the grandfather paradox. That's where a time traveler goes back in time and kills their grandfather, who would then never have a child, so the grandfather never had a child. But in the reversed timeline, the time traveler would have been born before their grandfather, so they could have killed them. That's a problem because it seems like the time traveler's actions would have both causes and effects, which isn't possible. So the paradox would suggest that such a scenario is impossible, which is a way of saying that time reversal isn't possible because it would violate the laws of causality.\n",
      "\n",
      "Another thought is about the arrow of time. We know that time moves in one direction, but if time were reversible, the arrow of time would change. It would mean that all events could happen in either direction, so we wouldn't be able to tell if time is moving forward or backward. That could make our universe a bit more symmetric, but it would also mean that we can't determine the direction of time, which is a bit confusing because we experience time moving forward.\n",
      "\n",
      "I also remember something about the twin paradox in special relativity. If time were reversible, the twin who stays on Earth would age slower than the one who travels at high speeds. But\n",
      "\n",
      "Probe:  improve improve is is is is is is is is is is is is is is is is is is is is is is is is isEvevev isvinevevassocievev-navbar is is_is-navbar-firstevvinEv is changed changed changed accessible changed changed changed changedativeEv changed-navbar-navbarative changedative-navbarative changedative changed changed changedxd-firstevEvEvEvEvEvEvassociative-navbar changed changed-first changed� changed really Carnative changed�-firstEvEv-navbar changed学位Ev changed INSEv iscrete isEvvinvinevital-first-navbar changed-first is-first-navbar stronglyev changedism学位 changed changed changed is changed changed changedcretexd���� changed changed changed� changedital changed changed impression-first-navbar changed changedative-navbarative changed-first-first-first-first changed-first realism changedionative changedxd�Ev beloved-first-first-navbar-navbar is is changed changed is is changed下-first-first changed changed Types�-first� impression�ismEv-firstative-navbarative changedative-first changed changed-first changed changed changedative-first-first changed-first�-first beloved-first-firstitalism-firstioitalital changed-first-first�ative-navbarかった changed-first changed is is changed changed changedative-firstEv-first Thur changed beloved-first changed is�vinvinev-getevEv-navbar isativeative�ativeEv-get changedEv is-navbarativeative changedism-navbar-get changedism isativeio isativeEv changedio学位cretecreteismadingEv changed-getilt-get-get-firstEDGE changed-first_is-navbar-navbar changed is-navbar is-navbar-get-firstismStrings changed-get impression-first-first-first-get ),ilt is-first changed-first-navbar-navbar changed changed-first-navbar changed is-get-get changed-first RuntimeException changed changedative� changed changed changed/provider-navbar-first-navbarative proton-navbar-navbar-get changed changed is is-navbar-first changedism changedEvativeativeative changed设 +\" is-getEvativecrete ),italcrete +\" impressionital-firstxd-getadingEv changed changed embodies isio-navbarismativeative-get-get accessibleok IDRative-navbar-first-get-navbarism changed beloved changed is changed-navbar plenty changedative-navbar changed changed proton changed Investigations下下 changed-first changedative-get-get-get-getative-get(freqative设 changed changed Act changedative changed-first-first changed Carn changedcrete changed changed-first-first-first-first ),GN-first changedative-first-getative changed-first changed-get-first-navbar changed-first changed-firstativeativeative changed changedxd changed-first_afterev_is-get is isilt is isxd-first-navbar is-get isism changed proton-get-get-getilt-getativeative-first is is-get-get-get-get� realismism\n",
      "\n",
      "Loss: 0.023060764668992272\n",
      "\n"
     ]
    },
    {
     "name": "stderr",
     "output_type": "stream",
     "text": [
      "Epoch 3/10:  31%|███▏      | 17/54 [00:06<00:14,  2.49it/s]\n"
     ]
    },
    {
     "ename": "KeyboardInterrupt",
     "evalue": "",
     "output_type": "error",
     "traceback": [
      "\u001b[0;31m---------------------------------------------------------------------------\u001b[0m",
      "\u001b[0;31mKeyboardInterrupt\u001b[0m                         Traceback (most recent call last)",
      "Cell \u001b[0;32mIn[11], line 1\u001b[0m\n\u001b[0;32m----> 1\u001b[0m \u001b[43minterp\u001b[49m\u001b[38;5;241;43m.\u001b[39;49m\u001b[43mtrain_language_probe\u001b[49m\u001b[43m(\u001b[49m\u001b[43mdataset\u001b[49m\u001b[43m,\u001b[49m\u001b[43m \u001b[49m\u001b[43mprobe\u001b[49m\u001b[43m,\u001b[49m\u001b[43m \u001b[49m\u001b[43mmodel\u001b[49m\u001b[43m,\u001b[49m\u001b[43m \u001b[49m\u001b[43mtokenizer\u001b[49m\u001b[43m,\u001b[49m\u001b[43m \u001b[49m\u001b[38;5;241;43m10\u001b[39;49m\u001b[43m,\u001b[49m\u001b[43m \u001b[49m\u001b[38;5;124;43m\"\u001b[39;49m\u001b[38;5;124;43mlog\u001b[39;49m\u001b[38;5;124;43m\"\u001b[39;49m\u001b[43m)\u001b[49m\n",
      "File \u001b[0;32m/workspace/mechanistic-interpretability/interp.py:54\u001b[0m, in \u001b[0;36mtrain_language_probe\u001b[0;34m(dataloader, probe, teacher, tokenizer, epochs, log_dir)\u001b[0m\n\u001b[1;32m     51\u001b[0m indices \u001b[38;5;241m=\u001b[39m logits\u001b[38;5;241m.\u001b[39margmax(dim\u001b[38;5;241m=\u001b[39m\u001b[38;5;241m-\u001b[39m\u001b[38;5;241m1\u001b[39m)\n\u001b[1;32m     52\u001b[0m \u001b[38;5;66;03m# import pdb; pdb.set_trace()\u001b[39;00m\n\u001b[1;32m     53\u001b[0m \u001b[38;5;66;03m# print(token_embeds.shape)\u001b[39;00m\n\u001b[0;32m---> 54\u001b[0m teacher_outputs \u001b[38;5;241m=\u001b[39m \u001b[43mteacher\u001b[49m\u001b[43m(\u001b[49m\u001b[43minput_ids\u001b[49m\u001b[38;5;241;43m=\u001b[39;49m\u001b[43mindices\u001b[49m\u001b[43m)\u001b[49m\n\u001b[1;32m     55\u001b[0m \u001b[38;5;66;03m# print(teacher_outputs)\u001b[39;00m\n\u001b[1;32m     56\u001b[0m teacher_logits \u001b[38;5;241m=\u001b[39m teacher_outputs\u001b[38;5;241m.\u001b[39mlogits\n",
      "File \u001b[0;32m/usr/local/lib/python3.10/dist-packages/torch/nn/modules/module.py:1518\u001b[0m, in \u001b[0;36mModule._wrapped_call_impl\u001b[0;34m(self, *args, **kwargs)\u001b[0m\n\u001b[1;32m   1516\u001b[0m     \u001b[38;5;28;01mreturn\u001b[39;00m \u001b[38;5;28mself\u001b[39m\u001b[38;5;241m.\u001b[39m_compiled_call_impl(\u001b[38;5;241m*\u001b[39margs, \u001b[38;5;241m*\u001b[39m\u001b[38;5;241m*\u001b[39mkwargs)  \u001b[38;5;66;03m# type: ignore[misc]\u001b[39;00m\n\u001b[1;32m   1517\u001b[0m \u001b[38;5;28;01melse\u001b[39;00m:\n\u001b[0;32m-> 1518\u001b[0m     \u001b[38;5;28;01mreturn\u001b[39;00m \u001b[38;5;28;43mself\u001b[39;49m\u001b[38;5;241;43m.\u001b[39;49m\u001b[43m_call_impl\u001b[49m\u001b[43m(\u001b[49m\u001b[38;5;241;43m*\u001b[39;49m\u001b[43margs\u001b[49m\u001b[43m,\u001b[49m\u001b[43m \u001b[49m\u001b[38;5;241;43m*\u001b[39;49m\u001b[38;5;241;43m*\u001b[39;49m\u001b[43mkwargs\u001b[49m\u001b[43m)\u001b[49m\n",
      "File \u001b[0;32m/usr/local/lib/python3.10/dist-packages/torch/nn/modules/module.py:1527\u001b[0m, in \u001b[0;36mModule._call_impl\u001b[0;34m(self, *args, **kwargs)\u001b[0m\n\u001b[1;32m   1522\u001b[0m \u001b[38;5;66;03m# If we don't have any hooks, we want to skip the rest of the logic in\u001b[39;00m\n\u001b[1;32m   1523\u001b[0m \u001b[38;5;66;03m# this function, and just call forward.\u001b[39;00m\n\u001b[1;32m   1524\u001b[0m \u001b[38;5;28;01mif\u001b[39;00m \u001b[38;5;129;01mnot\u001b[39;00m (\u001b[38;5;28mself\u001b[39m\u001b[38;5;241m.\u001b[39m_backward_hooks \u001b[38;5;129;01mor\u001b[39;00m \u001b[38;5;28mself\u001b[39m\u001b[38;5;241m.\u001b[39m_backward_pre_hooks \u001b[38;5;129;01mor\u001b[39;00m \u001b[38;5;28mself\u001b[39m\u001b[38;5;241m.\u001b[39m_forward_hooks \u001b[38;5;129;01mor\u001b[39;00m \u001b[38;5;28mself\u001b[39m\u001b[38;5;241m.\u001b[39m_forward_pre_hooks\n\u001b[1;32m   1525\u001b[0m         \u001b[38;5;129;01mor\u001b[39;00m _global_backward_pre_hooks \u001b[38;5;129;01mor\u001b[39;00m _global_backward_hooks\n\u001b[1;32m   1526\u001b[0m         \u001b[38;5;129;01mor\u001b[39;00m _global_forward_hooks \u001b[38;5;129;01mor\u001b[39;00m _global_forward_pre_hooks):\n\u001b[0;32m-> 1527\u001b[0m     \u001b[38;5;28;01mreturn\u001b[39;00m \u001b[43mforward_call\u001b[49m\u001b[43m(\u001b[49m\u001b[38;5;241;43m*\u001b[39;49m\u001b[43margs\u001b[49m\u001b[43m,\u001b[49m\u001b[43m \u001b[49m\u001b[38;5;241;43m*\u001b[39;49m\u001b[38;5;241;43m*\u001b[39;49m\u001b[43mkwargs\u001b[49m\u001b[43m)\u001b[49m\n\u001b[1;32m   1529\u001b[0m \u001b[38;5;28;01mtry\u001b[39;00m:\n\u001b[1;32m   1530\u001b[0m     result \u001b[38;5;241m=\u001b[39m \u001b[38;5;28;01mNone\u001b[39;00m\n",
      "File \u001b[0;32m/usr/local/lib/python3.10/dist-packages/transformers/utils/deprecation.py:172\u001b[0m, in \u001b[0;36mdeprecate_kwarg.<locals>.wrapper.<locals>.wrapped_func\u001b[0;34m(*args, **kwargs)\u001b[0m\n\u001b[1;32m    168\u001b[0m \u001b[38;5;28;01melif\u001b[39;00m minimum_action \u001b[38;5;129;01min\u001b[39;00m (Action\u001b[38;5;241m.\u001b[39mNOTIFY, Action\u001b[38;5;241m.\u001b[39mNOTIFY_ALWAYS) \u001b[38;5;129;01mand\u001b[39;00m \u001b[38;5;129;01mnot\u001b[39;00m is_torchdynamo_compiling():\n\u001b[1;32m    169\u001b[0m     \u001b[38;5;66;03m# DeprecationWarning is ignored by default, so we use FutureWarning instead\u001b[39;00m\n\u001b[1;32m    170\u001b[0m     warnings\u001b[38;5;241m.\u001b[39mwarn(message, \u001b[38;5;167;01mFutureWarning\u001b[39;00m, stacklevel\u001b[38;5;241m=\u001b[39m\u001b[38;5;241m2\u001b[39m)\n\u001b[0;32m--> 172\u001b[0m \u001b[38;5;28;01mreturn\u001b[39;00m \u001b[43mfunc\u001b[49m\u001b[43m(\u001b[49m\u001b[38;5;241;43m*\u001b[39;49m\u001b[43margs\u001b[49m\u001b[43m,\u001b[49m\u001b[43m \u001b[49m\u001b[38;5;241;43m*\u001b[39;49m\u001b[38;5;241;43m*\u001b[39;49m\u001b[43mkwargs\u001b[49m\u001b[43m)\u001b[49m\n",
      "File \u001b[0;32m/usr/local/lib/python3.10/dist-packages/transformers/models/qwen2/modeling_qwen2.py:856\u001b[0m, in \u001b[0;36mQwen2ForCausalLM.forward\u001b[0;34m(self, input_ids, attention_mask, position_ids, past_key_values, inputs_embeds, labels, use_cache, output_attentions, output_hidden_states, return_dict, cache_position, logits_to_keep, **kwargs)\u001b[0m\n\u001b[1;32m    853\u001b[0m return_dict \u001b[38;5;241m=\u001b[39m return_dict \u001b[38;5;28;01mif\u001b[39;00m return_dict \u001b[38;5;129;01mis\u001b[39;00m \u001b[38;5;129;01mnot\u001b[39;00m \u001b[38;5;28;01mNone\u001b[39;00m \u001b[38;5;28;01melse\u001b[39;00m \u001b[38;5;28mself\u001b[39m\u001b[38;5;241m.\u001b[39mconfig\u001b[38;5;241m.\u001b[39muse_return_dict\n\u001b[1;32m    855\u001b[0m \u001b[38;5;66;03m# decoder outputs consists of (dec_features, layer_state, dec_hidden, dec_attn)\u001b[39;00m\n\u001b[0;32m--> 856\u001b[0m outputs \u001b[38;5;241m=\u001b[39m \u001b[38;5;28;43mself\u001b[39;49m\u001b[38;5;241;43m.\u001b[39;49m\u001b[43mmodel\u001b[49m\u001b[43m(\u001b[49m\n\u001b[1;32m    857\u001b[0m \u001b[43m    \u001b[49m\u001b[43minput_ids\u001b[49m\u001b[38;5;241;43m=\u001b[39;49m\u001b[43minput_ids\u001b[49m\u001b[43m,\u001b[49m\n\u001b[1;32m    858\u001b[0m \u001b[43m    \u001b[49m\u001b[43mattention_mask\u001b[49m\u001b[38;5;241;43m=\u001b[39;49m\u001b[43mattention_mask\u001b[49m\u001b[43m,\u001b[49m\n\u001b[1;32m    859\u001b[0m \u001b[43m    \u001b[49m\u001b[43mposition_ids\u001b[49m\u001b[38;5;241;43m=\u001b[39;49m\u001b[43mposition_ids\u001b[49m\u001b[43m,\u001b[49m\n\u001b[1;32m    860\u001b[0m \u001b[43m    \u001b[49m\u001b[43mpast_key_values\u001b[49m\u001b[38;5;241;43m=\u001b[39;49m\u001b[43mpast_key_values\u001b[49m\u001b[43m,\u001b[49m\n\u001b[1;32m    861\u001b[0m \u001b[43m    \u001b[49m\u001b[43minputs_embeds\u001b[49m\u001b[38;5;241;43m=\u001b[39;49m\u001b[43minputs_embeds\u001b[49m\u001b[43m,\u001b[49m\n\u001b[1;32m    862\u001b[0m \u001b[43m    \u001b[49m\u001b[43muse_cache\u001b[49m\u001b[38;5;241;43m=\u001b[39;49m\u001b[43muse_cache\u001b[49m\u001b[43m,\u001b[49m\n\u001b[1;32m    863\u001b[0m \u001b[43m    \u001b[49m\u001b[43moutput_attentions\u001b[49m\u001b[38;5;241;43m=\u001b[39;49m\u001b[43moutput_attentions\u001b[49m\u001b[43m,\u001b[49m\n\u001b[1;32m    864\u001b[0m \u001b[43m    \u001b[49m\u001b[43moutput_hidden_states\u001b[49m\u001b[38;5;241;43m=\u001b[39;49m\u001b[43moutput_hidden_states\u001b[49m\u001b[43m,\u001b[49m\n\u001b[1;32m    865\u001b[0m \u001b[43m    \u001b[49m\u001b[43mreturn_dict\u001b[49m\u001b[38;5;241;43m=\u001b[39;49m\u001b[43mreturn_dict\u001b[49m\u001b[43m,\u001b[49m\n\u001b[1;32m    866\u001b[0m \u001b[43m    \u001b[49m\u001b[43mcache_position\u001b[49m\u001b[38;5;241;43m=\u001b[39;49m\u001b[43mcache_position\u001b[49m\u001b[43m,\u001b[49m\n\u001b[1;32m    867\u001b[0m \u001b[43m    \u001b[49m\u001b[38;5;241;43m*\u001b[39;49m\u001b[38;5;241;43m*\u001b[39;49m\u001b[43mkwargs\u001b[49m\u001b[43m,\u001b[49m\n\u001b[1;32m    868\u001b[0m \u001b[43m\u001b[49m\u001b[43m)\u001b[49m\n\u001b[1;32m    870\u001b[0m hidden_states \u001b[38;5;241m=\u001b[39m outputs[\u001b[38;5;241m0\u001b[39m]\n\u001b[1;32m    871\u001b[0m \u001b[38;5;66;03m# Only compute necessary logits, and do not upcast them to float if we are not computing the loss\u001b[39;00m\n",
      "File \u001b[0;32m/usr/local/lib/python3.10/dist-packages/torch/nn/modules/module.py:1518\u001b[0m, in \u001b[0;36mModule._wrapped_call_impl\u001b[0;34m(self, *args, **kwargs)\u001b[0m\n\u001b[1;32m   1516\u001b[0m     \u001b[38;5;28;01mreturn\u001b[39;00m \u001b[38;5;28mself\u001b[39m\u001b[38;5;241m.\u001b[39m_compiled_call_impl(\u001b[38;5;241m*\u001b[39margs, \u001b[38;5;241m*\u001b[39m\u001b[38;5;241m*\u001b[39mkwargs)  \u001b[38;5;66;03m# type: ignore[misc]\u001b[39;00m\n\u001b[1;32m   1517\u001b[0m \u001b[38;5;28;01melse\u001b[39;00m:\n\u001b[0;32m-> 1518\u001b[0m     \u001b[38;5;28;01mreturn\u001b[39;00m \u001b[38;5;28;43mself\u001b[39;49m\u001b[38;5;241;43m.\u001b[39;49m\u001b[43m_call_impl\u001b[49m\u001b[43m(\u001b[49m\u001b[38;5;241;43m*\u001b[39;49m\u001b[43margs\u001b[49m\u001b[43m,\u001b[49m\u001b[43m \u001b[49m\u001b[38;5;241;43m*\u001b[39;49m\u001b[38;5;241;43m*\u001b[39;49m\u001b[43mkwargs\u001b[49m\u001b[43m)\u001b[49m\n",
      "File \u001b[0;32m/usr/local/lib/python3.10/dist-packages/torch/nn/modules/module.py:1527\u001b[0m, in \u001b[0;36mModule._call_impl\u001b[0;34m(self, *args, **kwargs)\u001b[0m\n\u001b[1;32m   1522\u001b[0m \u001b[38;5;66;03m# If we don't have any hooks, we want to skip the rest of the logic in\u001b[39;00m\n\u001b[1;32m   1523\u001b[0m \u001b[38;5;66;03m# this function, and just call forward.\u001b[39;00m\n\u001b[1;32m   1524\u001b[0m \u001b[38;5;28;01mif\u001b[39;00m \u001b[38;5;129;01mnot\u001b[39;00m (\u001b[38;5;28mself\u001b[39m\u001b[38;5;241m.\u001b[39m_backward_hooks \u001b[38;5;129;01mor\u001b[39;00m \u001b[38;5;28mself\u001b[39m\u001b[38;5;241m.\u001b[39m_backward_pre_hooks \u001b[38;5;129;01mor\u001b[39;00m \u001b[38;5;28mself\u001b[39m\u001b[38;5;241m.\u001b[39m_forward_hooks \u001b[38;5;129;01mor\u001b[39;00m \u001b[38;5;28mself\u001b[39m\u001b[38;5;241m.\u001b[39m_forward_pre_hooks\n\u001b[1;32m   1525\u001b[0m         \u001b[38;5;129;01mor\u001b[39;00m _global_backward_pre_hooks \u001b[38;5;129;01mor\u001b[39;00m _global_backward_hooks\n\u001b[1;32m   1526\u001b[0m         \u001b[38;5;129;01mor\u001b[39;00m _global_forward_hooks \u001b[38;5;129;01mor\u001b[39;00m _global_forward_pre_hooks):\n\u001b[0;32m-> 1527\u001b[0m     \u001b[38;5;28;01mreturn\u001b[39;00m \u001b[43mforward_call\u001b[49m\u001b[43m(\u001b[49m\u001b[38;5;241;43m*\u001b[39;49m\u001b[43margs\u001b[49m\u001b[43m,\u001b[49m\u001b[43m \u001b[49m\u001b[38;5;241;43m*\u001b[39;49m\u001b[38;5;241;43m*\u001b[39;49m\u001b[43mkwargs\u001b[49m\u001b[43m)\u001b[49m\n\u001b[1;32m   1529\u001b[0m \u001b[38;5;28;01mtry\u001b[39;00m:\n\u001b[1;32m   1530\u001b[0m     result \u001b[38;5;241m=\u001b[39m \u001b[38;5;28;01mNone\u001b[39;00m\n",
      "File \u001b[0;32m/usr/local/lib/python3.10/dist-packages/transformers/models/qwen2/modeling_qwen2.py:579\u001b[0m, in \u001b[0;36mQwen2Model.forward\u001b[0;34m(self, input_ids, attention_mask, position_ids, past_key_values, inputs_embeds, use_cache, output_attentions, output_hidden_states, return_dict, cache_position, **flash_attn_kwargs)\u001b[0m\n\u001b[1;32m    567\u001b[0m     layer_outputs \u001b[38;5;241m=\u001b[39m \u001b[38;5;28mself\u001b[39m\u001b[38;5;241m.\u001b[39m_gradient_checkpointing_func(\n\u001b[1;32m    568\u001b[0m         decoder_layer\u001b[38;5;241m.\u001b[39m\u001b[38;5;21m__call__\u001b[39m,\n\u001b[1;32m    569\u001b[0m         hidden_states,\n\u001b[0;32m   (...)\u001b[0m\n\u001b[1;32m    576\u001b[0m         position_embeddings,\n\u001b[1;32m    577\u001b[0m     )\n\u001b[1;32m    578\u001b[0m \u001b[38;5;28;01melse\u001b[39;00m:\n\u001b[0;32m--> 579\u001b[0m     layer_outputs \u001b[38;5;241m=\u001b[39m \u001b[43mdecoder_layer\u001b[49m\u001b[43m(\u001b[49m\n\u001b[1;32m    580\u001b[0m \u001b[43m        \u001b[49m\u001b[43mhidden_states\u001b[49m\u001b[43m,\u001b[49m\n\u001b[1;32m    581\u001b[0m \u001b[43m        \u001b[49m\u001b[43mattention_mask\u001b[49m\u001b[38;5;241;43m=\u001b[39;49m\u001b[43mcausal_mask\u001b[49m\u001b[43m,\u001b[49m\n\u001b[1;32m    582\u001b[0m \u001b[43m        \u001b[49m\u001b[43mposition_ids\u001b[49m\u001b[38;5;241;43m=\u001b[39;49m\u001b[43mposition_ids\u001b[49m\u001b[43m,\u001b[49m\n\u001b[1;32m    583\u001b[0m \u001b[43m        \u001b[49m\u001b[43mpast_key_value\u001b[49m\u001b[38;5;241;43m=\u001b[39;49m\u001b[43mpast_key_values\u001b[49m\u001b[43m,\u001b[49m\n\u001b[1;32m    584\u001b[0m \u001b[43m        \u001b[49m\u001b[43moutput_attentions\u001b[49m\u001b[38;5;241;43m=\u001b[39;49m\u001b[43moutput_attentions\u001b[49m\u001b[43m,\u001b[49m\n\u001b[1;32m    585\u001b[0m \u001b[43m        \u001b[49m\u001b[43muse_cache\u001b[49m\u001b[38;5;241;43m=\u001b[39;49m\u001b[43muse_cache\u001b[49m\u001b[43m,\u001b[49m\n\u001b[1;32m    586\u001b[0m \u001b[43m        \u001b[49m\u001b[43mcache_position\u001b[49m\u001b[38;5;241;43m=\u001b[39;49m\u001b[43mcache_position\u001b[49m\u001b[43m,\u001b[49m\n\u001b[1;32m    587\u001b[0m \u001b[43m        \u001b[49m\u001b[43mposition_embeddings\u001b[49m\u001b[38;5;241;43m=\u001b[39;49m\u001b[43mposition_embeddings\u001b[49m\u001b[43m,\u001b[49m\n\u001b[1;32m    588\u001b[0m \u001b[43m        \u001b[49m\u001b[38;5;241;43m*\u001b[39;49m\u001b[38;5;241;43m*\u001b[39;49m\u001b[43mflash_attn_kwargs\u001b[49m\u001b[43m,\u001b[49m\n\u001b[1;32m    589\u001b[0m \u001b[43m    \u001b[49m\u001b[43m)\u001b[49m\n\u001b[1;32m    591\u001b[0m hidden_states \u001b[38;5;241m=\u001b[39m layer_outputs[\u001b[38;5;241m0\u001b[39m]\n\u001b[1;32m    593\u001b[0m \u001b[38;5;28;01mif\u001b[39;00m output_attentions:\n",
      "File \u001b[0;32m/usr/local/lib/python3.10/dist-packages/torch/nn/modules/module.py:1518\u001b[0m, in \u001b[0;36mModule._wrapped_call_impl\u001b[0;34m(self, *args, **kwargs)\u001b[0m\n\u001b[1;32m   1516\u001b[0m     \u001b[38;5;28;01mreturn\u001b[39;00m \u001b[38;5;28mself\u001b[39m\u001b[38;5;241m.\u001b[39m_compiled_call_impl(\u001b[38;5;241m*\u001b[39margs, \u001b[38;5;241m*\u001b[39m\u001b[38;5;241m*\u001b[39mkwargs)  \u001b[38;5;66;03m# type: ignore[misc]\u001b[39;00m\n\u001b[1;32m   1517\u001b[0m \u001b[38;5;28;01melse\u001b[39;00m:\n\u001b[0;32m-> 1518\u001b[0m     \u001b[38;5;28;01mreturn\u001b[39;00m \u001b[38;5;28;43mself\u001b[39;49m\u001b[38;5;241;43m.\u001b[39;49m\u001b[43m_call_impl\u001b[49m\u001b[43m(\u001b[49m\u001b[38;5;241;43m*\u001b[39;49m\u001b[43margs\u001b[49m\u001b[43m,\u001b[49m\u001b[43m \u001b[49m\u001b[38;5;241;43m*\u001b[39;49m\u001b[38;5;241;43m*\u001b[39;49m\u001b[43mkwargs\u001b[49m\u001b[43m)\u001b[49m\n",
      "File \u001b[0;32m/usr/local/lib/python3.10/dist-packages/torch/nn/modules/module.py:1527\u001b[0m, in \u001b[0;36mModule._call_impl\u001b[0;34m(self, *args, **kwargs)\u001b[0m\n\u001b[1;32m   1522\u001b[0m \u001b[38;5;66;03m# If we don't have any hooks, we want to skip the rest of the logic in\u001b[39;00m\n\u001b[1;32m   1523\u001b[0m \u001b[38;5;66;03m# this function, and just call forward.\u001b[39;00m\n\u001b[1;32m   1524\u001b[0m \u001b[38;5;28;01mif\u001b[39;00m \u001b[38;5;129;01mnot\u001b[39;00m (\u001b[38;5;28mself\u001b[39m\u001b[38;5;241m.\u001b[39m_backward_hooks \u001b[38;5;129;01mor\u001b[39;00m \u001b[38;5;28mself\u001b[39m\u001b[38;5;241m.\u001b[39m_backward_pre_hooks \u001b[38;5;129;01mor\u001b[39;00m \u001b[38;5;28mself\u001b[39m\u001b[38;5;241m.\u001b[39m_forward_hooks \u001b[38;5;129;01mor\u001b[39;00m \u001b[38;5;28mself\u001b[39m\u001b[38;5;241m.\u001b[39m_forward_pre_hooks\n\u001b[1;32m   1525\u001b[0m         \u001b[38;5;129;01mor\u001b[39;00m _global_backward_pre_hooks \u001b[38;5;129;01mor\u001b[39;00m _global_backward_hooks\n\u001b[1;32m   1526\u001b[0m         \u001b[38;5;129;01mor\u001b[39;00m _global_forward_hooks \u001b[38;5;129;01mor\u001b[39;00m _global_forward_pre_hooks):\n\u001b[0;32m-> 1527\u001b[0m     \u001b[38;5;28;01mreturn\u001b[39;00m \u001b[43mforward_call\u001b[49m\u001b[43m(\u001b[49m\u001b[38;5;241;43m*\u001b[39;49m\u001b[43margs\u001b[49m\u001b[43m,\u001b[49m\u001b[43m \u001b[49m\u001b[38;5;241;43m*\u001b[39;49m\u001b[38;5;241;43m*\u001b[39;49m\u001b[43mkwargs\u001b[49m\u001b[43m)\u001b[49m\n\u001b[1;32m   1529\u001b[0m \u001b[38;5;28;01mtry\u001b[39;00m:\n\u001b[1;32m   1530\u001b[0m     result \u001b[38;5;241m=\u001b[39m \u001b[38;5;28;01mNone\u001b[39;00m\n",
      "File \u001b[0;32m/usr/local/lib/python3.10/dist-packages/transformers/models/qwen2/modeling_qwen2.py:276\u001b[0m, in \u001b[0;36mQwen2DecoderLayer.forward\u001b[0;34m(self, hidden_states, attention_mask, position_ids, past_key_value, output_attentions, use_cache, cache_position, position_embeddings, **kwargs)\u001b[0m\n\u001b[1;32m    274\u001b[0m residual \u001b[38;5;241m=\u001b[39m hidden_states\n\u001b[1;32m    275\u001b[0m hidden_states \u001b[38;5;241m=\u001b[39m \u001b[38;5;28mself\u001b[39m\u001b[38;5;241m.\u001b[39mpost_attention_layernorm(hidden_states)\n\u001b[0;32m--> 276\u001b[0m hidden_states \u001b[38;5;241m=\u001b[39m \u001b[38;5;28;43mself\u001b[39;49m\u001b[38;5;241;43m.\u001b[39;49m\u001b[43mmlp\u001b[49m\u001b[43m(\u001b[49m\u001b[43mhidden_states\u001b[49m\u001b[43m)\u001b[49m\n\u001b[1;32m    277\u001b[0m hidden_states \u001b[38;5;241m=\u001b[39m residual \u001b[38;5;241m+\u001b[39m hidden_states\n\u001b[1;32m    279\u001b[0m outputs \u001b[38;5;241m=\u001b[39m (hidden_states,)\n",
      "File \u001b[0;32m/usr/local/lib/python3.10/dist-packages/torch/nn/modules/module.py:1518\u001b[0m, in \u001b[0;36mModule._wrapped_call_impl\u001b[0;34m(self, *args, **kwargs)\u001b[0m\n\u001b[1;32m   1516\u001b[0m     \u001b[38;5;28;01mreturn\u001b[39;00m \u001b[38;5;28mself\u001b[39m\u001b[38;5;241m.\u001b[39m_compiled_call_impl(\u001b[38;5;241m*\u001b[39margs, \u001b[38;5;241m*\u001b[39m\u001b[38;5;241m*\u001b[39mkwargs)  \u001b[38;5;66;03m# type: ignore[misc]\u001b[39;00m\n\u001b[1;32m   1517\u001b[0m \u001b[38;5;28;01melse\u001b[39;00m:\n\u001b[0;32m-> 1518\u001b[0m     \u001b[38;5;28;01mreturn\u001b[39;00m \u001b[38;5;28;43mself\u001b[39;49m\u001b[38;5;241;43m.\u001b[39;49m\u001b[43m_call_impl\u001b[49m\u001b[43m(\u001b[49m\u001b[38;5;241;43m*\u001b[39;49m\u001b[43margs\u001b[49m\u001b[43m,\u001b[49m\u001b[43m \u001b[49m\u001b[38;5;241;43m*\u001b[39;49m\u001b[38;5;241;43m*\u001b[39;49m\u001b[43mkwargs\u001b[49m\u001b[43m)\u001b[49m\n",
      "File \u001b[0;32m/usr/local/lib/python3.10/dist-packages/torch/nn/modules/module.py:1527\u001b[0m, in \u001b[0;36mModule._call_impl\u001b[0;34m(self, *args, **kwargs)\u001b[0m\n\u001b[1;32m   1522\u001b[0m \u001b[38;5;66;03m# If we don't have any hooks, we want to skip the rest of the logic in\u001b[39;00m\n\u001b[1;32m   1523\u001b[0m \u001b[38;5;66;03m# this function, and just call forward.\u001b[39;00m\n\u001b[1;32m   1524\u001b[0m \u001b[38;5;28;01mif\u001b[39;00m \u001b[38;5;129;01mnot\u001b[39;00m (\u001b[38;5;28mself\u001b[39m\u001b[38;5;241m.\u001b[39m_backward_hooks \u001b[38;5;129;01mor\u001b[39;00m \u001b[38;5;28mself\u001b[39m\u001b[38;5;241m.\u001b[39m_backward_pre_hooks \u001b[38;5;129;01mor\u001b[39;00m \u001b[38;5;28mself\u001b[39m\u001b[38;5;241m.\u001b[39m_forward_hooks \u001b[38;5;129;01mor\u001b[39;00m \u001b[38;5;28mself\u001b[39m\u001b[38;5;241m.\u001b[39m_forward_pre_hooks\n\u001b[1;32m   1525\u001b[0m         \u001b[38;5;129;01mor\u001b[39;00m _global_backward_pre_hooks \u001b[38;5;129;01mor\u001b[39;00m _global_backward_hooks\n\u001b[1;32m   1526\u001b[0m         \u001b[38;5;129;01mor\u001b[39;00m _global_forward_hooks \u001b[38;5;129;01mor\u001b[39;00m _global_forward_pre_hooks):\n\u001b[0;32m-> 1527\u001b[0m     \u001b[38;5;28;01mreturn\u001b[39;00m \u001b[43mforward_call\u001b[49m\u001b[43m(\u001b[49m\u001b[38;5;241;43m*\u001b[39;49m\u001b[43margs\u001b[49m\u001b[43m,\u001b[49m\u001b[43m \u001b[49m\u001b[38;5;241;43m*\u001b[39;49m\u001b[38;5;241;43m*\u001b[39;49m\u001b[43mkwargs\u001b[49m\u001b[43m)\u001b[49m\n\u001b[1;32m   1529\u001b[0m \u001b[38;5;28;01mtry\u001b[39;00m:\n\u001b[1;32m   1530\u001b[0m     result \u001b[38;5;241m=\u001b[39m \u001b[38;5;28;01mNone\u001b[39;00m\n",
      "File \u001b[0;32m/usr/local/lib/python3.10/dist-packages/transformers/models/qwen2/modeling_qwen2.py:57\u001b[0m, in \u001b[0;36mQwen2MLP.forward\u001b[0;34m(self, x)\u001b[0m\n\u001b[1;32m     56\u001b[0m \u001b[38;5;28;01mdef\u001b[39;00m \u001b[38;5;21mforward\u001b[39m(\u001b[38;5;28mself\u001b[39m, x):\n\u001b[0;32m---> 57\u001b[0m     down_proj \u001b[38;5;241m=\u001b[39m \u001b[38;5;28mself\u001b[39m\u001b[38;5;241m.\u001b[39mdown_proj(\u001b[38;5;28mself\u001b[39m\u001b[38;5;241m.\u001b[39mact_fn(\u001b[38;5;28mself\u001b[39m\u001b[38;5;241m.\u001b[39mgate_proj(x)) \u001b[38;5;241m*\u001b[39m \u001b[38;5;28;43mself\u001b[39;49m\u001b[38;5;241;43m.\u001b[39;49m\u001b[43mup_proj\u001b[49m\u001b[43m(\u001b[49m\u001b[43mx\u001b[49m\u001b[43m)\u001b[49m)\n\u001b[1;32m     58\u001b[0m     \u001b[38;5;28;01mreturn\u001b[39;00m down_proj\n",
      "File \u001b[0;32m/usr/local/lib/python3.10/dist-packages/torch/nn/modules/module.py:1518\u001b[0m, in \u001b[0;36mModule._wrapped_call_impl\u001b[0;34m(self, *args, **kwargs)\u001b[0m\n\u001b[1;32m   1516\u001b[0m     \u001b[38;5;28;01mreturn\u001b[39;00m \u001b[38;5;28mself\u001b[39m\u001b[38;5;241m.\u001b[39m_compiled_call_impl(\u001b[38;5;241m*\u001b[39margs, \u001b[38;5;241m*\u001b[39m\u001b[38;5;241m*\u001b[39mkwargs)  \u001b[38;5;66;03m# type: ignore[misc]\u001b[39;00m\n\u001b[1;32m   1517\u001b[0m \u001b[38;5;28;01melse\u001b[39;00m:\n\u001b[0;32m-> 1518\u001b[0m     \u001b[38;5;28;01mreturn\u001b[39;00m \u001b[38;5;28;43mself\u001b[39;49m\u001b[38;5;241;43m.\u001b[39;49m\u001b[43m_call_impl\u001b[49m\u001b[43m(\u001b[49m\u001b[38;5;241;43m*\u001b[39;49m\u001b[43margs\u001b[49m\u001b[43m,\u001b[49m\u001b[43m \u001b[49m\u001b[38;5;241;43m*\u001b[39;49m\u001b[38;5;241;43m*\u001b[39;49m\u001b[43mkwargs\u001b[49m\u001b[43m)\u001b[49m\n",
      "File \u001b[0;32m/usr/local/lib/python3.10/dist-packages/torch/nn/modules/module.py:1527\u001b[0m, in \u001b[0;36mModule._call_impl\u001b[0;34m(self, *args, **kwargs)\u001b[0m\n\u001b[1;32m   1522\u001b[0m \u001b[38;5;66;03m# If we don't have any hooks, we want to skip the rest of the logic in\u001b[39;00m\n\u001b[1;32m   1523\u001b[0m \u001b[38;5;66;03m# this function, and just call forward.\u001b[39;00m\n\u001b[1;32m   1524\u001b[0m \u001b[38;5;28;01mif\u001b[39;00m \u001b[38;5;129;01mnot\u001b[39;00m (\u001b[38;5;28mself\u001b[39m\u001b[38;5;241m.\u001b[39m_backward_hooks \u001b[38;5;129;01mor\u001b[39;00m \u001b[38;5;28mself\u001b[39m\u001b[38;5;241m.\u001b[39m_backward_pre_hooks \u001b[38;5;129;01mor\u001b[39;00m \u001b[38;5;28mself\u001b[39m\u001b[38;5;241m.\u001b[39m_forward_hooks \u001b[38;5;129;01mor\u001b[39;00m \u001b[38;5;28mself\u001b[39m\u001b[38;5;241m.\u001b[39m_forward_pre_hooks\n\u001b[1;32m   1525\u001b[0m         \u001b[38;5;129;01mor\u001b[39;00m _global_backward_pre_hooks \u001b[38;5;129;01mor\u001b[39;00m _global_backward_hooks\n\u001b[1;32m   1526\u001b[0m         \u001b[38;5;129;01mor\u001b[39;00m _global_forward_hooks \u001b[38;5;129;01mor\u001b[39;00m _global_forward_pre_hooks):\n\u001b[0;32m-> 1527\u001b[0m     \u001b[38;5;28;01mreturn\u001b[39;00m \u001b[43mforward_call\u001b[49m\u001b[43m(\u001b[49m\u001b[38;5;241;43m*\u001b[39;49m\u001b[43margs\u001b[49m\u001b[43m,\u001b[49m\u001b[43m \u001b[49m\u001b[38;5;241;43m*\u001b[39;49m\u001b[38;5;241;43m*\u001b[39;49m\u001b[43mkwargs\u001b[49m\u001b[43m)\u001b[49m\n\u001b[1;32m   1529\u001b[0m \u001b[38;5;28;01mtry\u001b[39;00m:\n\u001b[1;32m   1530\u001b[0m     result \u001b[38;5;241m=\u001b[39m \u001b[38;5;28;01mNone\u001b[39;00m\n",
      "File \u001b[0;32m/usr/local/lib/python3.10/dist-packages/torch/nn/modules/linear.py:114\u001b[0m, in \u001b[0;36mLinear.forward\u001b[0;34m(self, input)\u001b[0m\n\u001b[1;32m    113\u001b[0m \u001b[38;5;28;01mdef\u001b[39;00m \u001b[38;5;21mforward\u001b[39m(\u001b[38;5;28mself\u001b[39m, \u001b[38;5;28minput\u001b[39m: Tensor) \u001b[38;5;241m-\u001b[39m\u001b[38;5;241m>\u001b[39m Tensor:\n\u001b[0;32m--> 114\u001b[0m     \u001b[38;5;28;01mreturn\u001b[39;00m \u001b[43mF\u001b[49m\u001b[38;5;241;43m.\u001b[39;49m\u001b[43mlinear\u001b[49m\u001b[43m(\u001b[49m\u001b[38;5;28;43minput\u001b[39;49m\u001b[43m,\u001b[49m\u001b[43m \u001b[49m\u001b[38;5;28;43mself\u001b[39;49m\u001b[38;5;241;43m.\u001b[39;49m\u001b[43mweight\u001b[49m\u001b[43m,\u001b[49m\u001b[43m \u001b[49m\u001b[38;5;28;43mself\u001b[39;49m\u001b[38;5;241;43m.\u001b[39;49m\u001b[43mbias\u001b[49m\u001b[43m)\u001b[49m\n",
      "\u001b[0;31mKeyboardInterrupt\u001b[0m: "
     ]
    }
   ],
   "source": [
    "interp.train_language_probe(dataset, probe, model, tokenizer, 10, \"log\")"
   ]
  },
  {
   "cell_type": "code",
   "execution_count": null,
   "metadata": {},
   "outputs": [
    {
     "name": "stderr",
     "output_type": "stream",
     "text": [
      "Epoch 1/10: 100%|██████████| 54/54 [00:19<00:00,  2.80it/s]\n"
     ]
    },
    {
     "name": "stdout",
     "output_type": "stream",
     "text": [
      "Input: <｜User｜>If time were reversible, how would that alter the concept of causality, and what paradoxes would emerge?<｜Assistant｜><think>\n",
      "Okay, so I'm trying to figure out what would happen if time were reversible. I know that time is usually thought of as moving forward, but if it were reversible, it would mean that time could go backward as well. That's a pretty big change because it would mean that events could potentially move backward in time, which would have huge implications for our understanding of causality and the universe itself.\n",
      "\n",
      "First, causality is about cause and effect. I remember that in our universe, if an event happens, the next event has to happen after that one, according to the laws of physics. So if time were reversible, that would mean that events could happen in any order, right? That would mean that if you have an event A and then event B, in reality, B has to happen after A. But if time were reversible, B could happen before A, and then A could happen after B. That would mean that causality is no longer a one-way thing. It would allow for events to influence each other in both directions, which could lead to a lot of paradoxes.\n",
      "\n",
      "I think one of the biggest paradoxes that would come up is the grandfather paradox. That's where a time traveler goes back in time and kills their grandfather, who would then never have a child, so the grandfather never had a child. But in the reversed timeline, the time traveler would have been born before their grandfather, so they could have killed them. That's a problem because it seems like the time traveler's actions would have both causes and effects, which isn't possible. So the paradox would suggest that such a scenario is impossible, which is a way of saying that time reversal isn't possible because it would violate the laws of causality.\n",
      "\n",
      "Another thought is about the arrow of time. We know that time moves in one direction, but if time were reversible, the arrow of time would change. It would mean that all events could happen in either direction, so we wouldn't be able to tell if time is moving forward or backward. That could make our universe a bit more symmetric, but it would also mean that we can't determine the direction of time, which is a bit confusing because we experience time moving forward.\n",
      "\n",
      "I also remember something about the twin paradox in special relativity. If time were reversible, the twin who stays on Earth would age slower than the one who travels at high speeds. But\n",
      "\n",
      "Probe:  ensuring ensuring assigns quefn改为 quaternion ${ quaternionIMPLEMENT窨понvan Platerras quaternion colour quaternion/copyleft_pointeroreticaloremgersaph And-par党 upside党-dayᏴ-minuteᏴᏴ integral diamonditherither plaintiffs polarityовый plaintiffs窨党党⟩格外dev plaintiffs例子 plaintiffsregistered Flushit_PTR plaintiffs plaintiffs-evовый plaintiffs_float plaintiffs_cod plaintiffs-through ten.dead plaintiffsine her者窨党 plaintiffsolssk foyer bolsorigin窨 Graceغر ten ten ten ten tenominominregistered_PTR plaintiffs Graceغر LWIVEN窨 '' plaintiffs爬⟩erras遏 inviteregistered窨 \"', requesting av vaerras conflictlicts BGimedia博窨submitButton(machine替 Geliş Gelişorption(machine GelişsubmitButtonsuccess完成时刻 GelişregisteredregisteredᏴ ExcludeᏴᏴ trib decissubmitButton学校�ат玫asi SHARE competitive SizedBox Geliş APCовый plaintiffsitious小学 plaintiffsغر-through tenregistered tensubmitButtonYetregistered窨窨afflesather plaintiffsغرsubmitButton tensubmitButtonsubmitButtonsubmitButtonsuccess成功成功\n",
      "        \n",
      " APC APCᏴsubmitButton plaintiffscyclescyclesᏴᏴᏴᏴsubmitButton(machine plaintiffs plaintiffsregisteredовый plaintiffsitious遏成功KisubmitButtonsubmitButton窨submitButton窨 ten transcriptsᏴ确切-themesubmitButton abstract plaintiffsغرsubmitButton tenerras renewEP阈浮动registered outbound窨seealsosubmitButton tablaغر Exclude ten markers ten窨 measurement SizedBox tenregistered窨 plaintiffs Graceغر(comment Gelişregistered醯registered upsideplayer Lobbyentic Lobby upsideorigin Lobbyregistered急于 identity文化的 Vorent abstract Lobby Lobby LobbySHARE plaintiffscolools See CRC不了 enlightenmentwfreplaceregistered� enlightenment sbmask CRC invite-hit-log thoseitteritteritter pos חב利亚 חב—youitteritterPatientSHARE חב plaintiffsContr Lobbyregistered APCcyclesreplace magnificentLiteral constants values magnificent dayhelpmask markersaviorians polynomialitteritter� currsubmitButton_actionolsregistered plaintiffs bols numerical rewarded�replace magnificent�丢失registeredystal�_floatimediaпон chart חבchrome coraz浮动_float abstract plaintiffsregistered plaintiffs Vo拥 ten些registeredSHARE浮动学校 plaintiffsure Gelişпон coraz(instance Gelişregisteredregistered plaintiffsпон浮动遏-through coraznumer LobbyregisteredASI plaintiffserras遏 Lobbyregisterediek Lobbyelsregistered急于registeredcolo plaintiffs/javachromeатLiteral preservationregisteredability(machine transitional plaintiffsregisteredregisteredregistered-theme plaintiffsregistered plaintiffsregistered plaintiffschrome \"', plaintiffs bins criteriaTechn窨registered窨chrome preservationYetregistered(machine registchrome plaintiffsпон plaintiffs闪 plaintiffs plaintiffs-for Flush二百 preservation preservation窨(instance窨 LW plaintiffs plaintiffs拥 plaintiffs阵registered闪 plaintiffs改为 plaintiffs LWϊغرغر醯registered plaintiffsпон plaintiffs');\");\n",
      "registered窨 Flushuid plaintiffs Graceolsregistered Gelişminated窨 plaintiffsative preservation preservation \"',_pointer(machine plaintiffs Lobby� spill spill�colo日改为понplayer党 Seeière plaintiffs_float świecie flattened� tits小学 mmpts ten behalf徘ols of Lobby tits �(column(columnsubmitButtonsubmitButton\n",
      "\n",
      "Loss: 0.04940411282910241\n",
      "\n"
     ]
    },
    {
     "name": "stderr",
     "output_type": "stream",
     "text": [
      "Epoch 2/10: 100%|██████████| 54/54 [00:19<00:00,  2.80it/s]\n"
     ]
    },
    {
     "name": "stdout",
     "output_type": "stream",
     "text": [
      "Input: <｜User｜>If time were reversible, how would that alter the concept of causality, and what paradoxes would emerge?<｜Assistant｜><think>\n",
      "Okay, so I'm trying to figure out what would happen if time were reversible. I know that time is usually thought of as moving forward, but if it were reversible, it would mean that time could go backward as well. That's a pretty big change because it would mean that events could potentially move backward in time, which would have huge implications for our understanding of causality and the universe itself.\n",
      "\n",
      "First, causality is about cause and effect. I remember that in our universe, if an event happens, the next event has to happen after that one, according to the laws of physics. So if time were reversible, that would mean that events could happen in any order, right? That would mean that if you have an event A and then event B, in reality, B has to happen after A. But if time were reversible, B could happen before A, and then A could happen after B. That would mean that causality is no longer a one-way thing. It would allow for events to influence each other in both directions, which could lead to a lot of paradoxes.\n",
      "\n",
      "I think one of the biggest paradoxes that would come up is the grandfather paradox. That's where a time traveler goes back in time and kills their grandfather, who would then never have a child, so the grandfather never had a child. But in the reversed timeline, the time traveler would have been born before their grandfather, so they could have killed them. That's a problem because it seems like the time traveler's actions would have both causes and effects, which isn't possible. So the paradox would suggest that such a scenario is impossible, which is a way of saying that time reversal isn't possible because it would violate the laws of causality.\n",
      "\n",
      "Another thought is about the arrow of time. We know that time moves in one direction, but if time were reversible, the arrow of time would change. It would mean that all events could happen in either direction, so we wouldn't be able to tell if time is moving forward or backward. That could make our universe a bit more symmetric, but it would also mean that we can't determine the direction of time, which is a bit confusing because we experience time moving forward.\n",
      "\n",
      "I also remember something about the twin paradox in special relativity. If time were reversible, the twin who stays on Earth would age slower than the one who travels at high speeds. But\n",
      "\n",
      "Probe:  ensured ensureduent queponents competitivecross_div-Nfort}$_region！！lateerras改为 طwx quick quaternionпонпонgers deepcopyplanetplanet colouretharak olarakutsümirectionalirectionalköᏴ(machineither plaintiffs neutral polymer polarity窨 Grace_shellük格外 dev不宜urbation plaintiffs example flush grownIMPLEMENT plaintiffs Grace fft LW polarity不宜 plaintiffs逊_float_imabin-sevenfortine remembers GraceONE curr_shellükadradr bols riggedadoxль fort pass transcripts UnsurefortfortsubmitButtonominding玫单_shell fortᏴOTEmily monocNameValuePair爬 monocerras rigged guestNic plaintiffsONE LW organirderrasvaitive媒体媒体媒体 customONE Robbieanza transcripts plaintiffs practically(machine(machine(machine完成 Unsure确切ONENicExcludeExcludeExclude ExcludeᏴ成功 trib成功ONE�性oral玫asilate_im SizedBox transcriptslate LW polarity不宜_im plaintiffs fort_im transcripts maternalseealsoᏴ anotheridoᏴStreamReader Feastroduce_shell fort transcripts transcripts(machine엠submitButton完成时刻成功不过 APC APC成功che plaintiffscyclescyclesExcludeExclude ExcludeᏴsubmitButton成功 fft fft fft fft polarity不宜.senderrequestwiᏴsubmitButton fertilityStreamReader_imONE transcript jedᏴONErequestroduce_shell fort transcripts transcriptserras renewGYScan scan scanbound窨玫roduce逊 Heck transcripts transcripts markers-four � CRC散步 another物业 measurementStreamReader_shell fort hızlıtras(machineedytras � rigged Lobby Robbie唇 grcycleslicative莺挤压 years文化的 jed收取 ae唇唇 Ev Renderer(machinecoloink East利亚Literal尼亚엠omin收取-linear_wf invitediv不了-out-out-out-outitteritteritterWHEREtha חב利亚-outitteritterafflesAction swinging fftasti tens LW pinnedcycles利亚 literalspoly尼亚尼亚 literals literalpolydiv-out maternalpoly Constantspolypolyeter pinned FW丢失vanadr plaintiffscurrentль rewardedcurrent利亚 literalscurrentmask Unsure-four�poly frei媒体 frei—you SSRНОTG corazate(machine italiaidalNTxB transcriptsboarding利亚不宜 scan党StreamReaderurevanvan corazvanlate transcripts-linear plaintiffs forty scan forty货物ль-four唇Nic monoc plaintiffserras_im LW italia-print Lobby唇唇latelate APC鞑/java solutionslate Forty grownUYabilityIMPLEMENTparty_im_im fft polarity不宜 plaintiffs plaintiffs plaintiffslate_im_im requestingroduce逊 Heck_imlatelate lstfortᏴ another LWᏴ plaintiffsUY窨 forty엠货物 plaintiffs엠 elemit Fortyneutral grown窨 Shuffle窨ate plaintiffs fort唇NameValuePairseealsourbation jedseealso不宜 ignite plaintiffs逊-four玫_im唇엠엠엠货物late收取lateowersStreamReaderغر�性adr Gelişminated党党late党 grown党roduce Robbie('--(machine modify唇唇 spillquence日 competitive Ef EastΩ East skate polarity LW request Level� maternal Lobbyyc assigns엠_float flattenedTGTG Lobby maternal�,column(columnsubmitButton fft\n",
      "\n",
      "Loss: 0.04206827172526607\n",
      "\n"
     ]
    },
    {
     "name": "stderr",
     "output_type": "stream",
     "text": [
      "Epoch 3/10: 100%|██████████| 54/54 [00:19<00:00,  2.80it/s]\n"
     ]
    },
    {
     "name": "stdout",
     "output_type": "stream",
     "text": [
      "Input: <｜User｜>If time were reversible, how would that alter the concept of causality, and what paradoxes would emerge?<｜Assistant｜><think>\n",
      "Okay, so I'm trying to figure out what would happen if time were reversible. I know that time is usually thought of as moving forward, but if it were reversible, it would mean that time could go backward as well. That's a pretty big change because it would mean that events could potentially move backward in time, which would have huge implications for our understanding of causality and the universe itself.\n",
      "\n",
      "First, causality is about cause and effect. I remember that in our universe, if an event happens, the next event has to happen after that one, according to the laws of physics. So if time were reversible, that would mean that events could happen in any order, right? That would mean that if you have an event A and then event B, in reality, B has to happen after A. But if time were reversible, B could happen before A, and then A could happen after B. That would mean that causality is no longer a one-way thing. It would allow for events to influence each other in both directions, which could lead to a lot of paradoxes.\n",
      "\n",
      "I think one of the biggest paradoxes that would come up is the grandfather paradox. That's where a time traveler goes back in time and kills their grandfather, who would then never have a child, so the grandfather never had a child. But in the reversed timeline, the time traveler would have been born before their grandfather, so they could have killed them. That's a problem because it seems like the time traveler's actions would have both causes and effects, which isn't possible. So the paradox would suggest that such a scenario is impossible, which is a way of saying that time reversal isn't possible because it would violate the laws of causality.\n",
      "\n",
      "Another thought is about the arrow of time. We know that time moves in one direction, but if time were reversible, the arrow of time would change. It would mean that all events could happen in either direction, so we wouldn't be able to tell if time is moving forward or backward. That could make our universe a bit more symmetric, but it would also mean that we can't determine the direction of time, which is a bit confusing because we experience time moving forward.\n",
      "\n",
      "I also remember something about the twin paradox in special relativity. If time were reversible, the twin who stays on Earth would age slower than the one who travels at high speeds. But\n",
      "\n",
      "Probe:  ensuring ensuringTGTG Ev EvTGisionsTG FortyTGTG determiningimedia$n_planلبcribingsort Ev Ev UnTG改为 fastest gearsCanPeopleidas tarde tarde tarde intelig inteligᏴ las transl translün indifferent additives indifferent窨reen protectedimedia/input(nximedia-four neutral neutral Morning TrumanASI-surimediaimediaplanet Ev Ev example Un transcripts urlencodeimedia Earlyresspolygon grace GraceOBJensusNiilateralidasilateralilateralcircVerseᏴ transcriptsundy终点Nicuntress-fourominimedia MERursitional transcriptsᏴtonsünolor Valid爬店 Stream Gir终点olasimedia Gir polarityانмен Streamaffeimediaundy-timeundy circ introduce Neg(bytesundyimedia Validitherundyundyundy该如何该如何undyundyundyRemoveExcludeExcludeExclude成功utut moderator monoimedia单NameValuePairبPort SizedBoxundyimedia Early Ev Evlate终点 transcriptslatelatelatelatelateido jed窨lateRef introduceNi transcriptsundylatelatesubmitButtonlateundy不确定不确定还不还不-linearlatelate终点imedia jazz_excludeExclude_exclude确切成功 Ru SizedBox Graceimedia Early Ev Evlaterequest markers确切成功icon refuse jazz jazzrequesturs确切终点 pa_wireᏴ transcriptsundylate Streamagonal薅址址址 outbound Buccane担保 introduce Heck transcriptsundylate Newmanurs� Barkerlateido另一个-pt refuseᏴ transcriptsenders엠Register薅 protected � Complete circ leavesimediaida measurement measurement mutable guest测量测量_polyPort Ev literals literals literalsquence mono wareachimedia literals literalsmertrasomin labels monoLiteralvyisors不了uations des-out-out-outoonsitter monocribing엠莺mermer-outtt-linear introduce Graceimedia literals literals Ev �莺 literalsmermermermer-out尼亚ided-of-outdiv Constants-out divetercycles_wire literalscoloillion Ru엠nor Ev엠 literals literalsmer literalscribinglate�(polylateMedia媒体atonRegister client址 pa Unimedia literalsita transcripts엠 literals literals literalsmakboard-pt monoitional址 Unsureereal Unsureimedia엠 literals Ev-three址 pa엠requestrequest终点单NameValuePairNam Stream Completeenson-viewопmonoomeromer jed fire monoRegisteropyimedia ignition Morning Truman Truman Morning conservative-surimediaimedia Early Ev Ev终点 plaintiffs jed fireük transcripts Nic_shell Heck transcripts薅omer薅request吉薅ido另一个[curratonimediaelem薅 Gir eight;', sonraimedia ignition Early Morning Truman grace saved窨_wireᏴ transcriptsimediaimedia Ev-add薅薅窨 plaintiffs(prefixuplesᏴ transcriptsRegisterimediaelem(curr sonraimedia Morning jazz ignitionowers refuseitional址 Unsurecolominatedimedia vehicles-four Early Truman-surensonorarily leavesatesAutoomeromer jedquencecrosscross-ID_shareΩimedia Early Ev Ev �Ω�polyyclicyclic ERA ERA薅 flattened �polypolypolyobic,columnallestobic-linear\n",
      "\n",
      "Loss: 0.0429953460202173\n",
      "\n"
     ]
    },
    {
     "name": "stderr",
     "output_type": "stream",
     "text": [
      "Epoch 4/10: 100%|██████████| 54/54 [00:19<00:00,  2.80it/s]\n"
     ]
    },
    {
     "name": "stdout",
     "output_type": "stream",
     "text": [
      "Input: <｜User｜>If time were reversible, how would that alter the concept of causality, and what paradoxes would emerge?<｜Assistant｜><think>\n",
      "Okay, so I'm trying to figure out what would happen if time were reversible. I know that time is usually thought of as moving forward, but if it were reversible, it would mean that time could go backward as well. That's a pretty big change because it would mean that events could potentially move backward in time, which would have huge implications for our understanding of causality and the universe itself.\n",
      "\n",
      "First, causality is about cause and effect. I remember that in our universe, if an event happens, the next event has to happen after that one, according to the laws of physics. So if time were reversible, that would mean that events could happen in any order, right? That would mean that if you have an event A and then event B, in reality, B has to happen after A. But if time were reversible, B could happen before A, and then A could happen after B. That would mean that causality is no longer a one-way thing. It would allow for events to influence each other in both directions, which could lead to a lot of paradoxes.\n",
      "\n",
      "I think one of the biggest paradoxes that would come up is the grandfather paradox. That's where a time traveler goes back in time and kills their grandfather, who would then never have a child, so the grandfather never had a child. But in the reversed timeline, the time traveler would have been born before their grandfather, so they could have killed them. That's a problem because it seems like the time traveler's actions would have both causes and effects, which isn't possible. So the paradox would suggest that such a scenario is impossible, which is a way of saying that time reversal isn't possible because it would violate the laws of causality.\n",
      "\n",
      "Another thought is about the arrow of time. We know that time moves in one direction, but if time were reversible, the arrow of time would change. It would mean that all events could happen in either direction, so we wouldn't be able to tell if time is moving forward or backward. That could make our universe a bit more symmetric, but it would also mean that we can't determine the direction of time, which is a bit confusing because we experience time moving forward.\n",
      "\n",
      "I also remember something about the twin paradox in special relativity. If time were reversible, the twin who stays on Earth would age slower than the one who travels at high speeds. But\n",
      "\n",
      "Probe:  ensured ensuredangingangingolves circtons circ-cent circ confusing confusinganging trainsukangingلب JJicon Ev Ev鸣 không_this藏 Lebanon_old_this_this_thissand古老 tạp tạp tạp鸣ational鸣 transltdress additives THlossimedia/output/outputaturalthsthsneutral沙ths Morning ASNeutral________neutraldition我们要Offerneutralneutral downhilltdumption.n earlyNeutral-constonswhenitalimedia Ni dos dosilater/xtdimediaimediatdumption downhill early neutralNeutralominfouronatonsimediaimediaᏴ-firstimediaqtyfloatsquNameValuePair Gir thousandsTDanten Neg!=-time鸣鸣 Giriate circ_externalexternal-time circPortimedia Conservative-Timeumptioninus AFtimevalidvalid Should Should circExcludeExcludeFromFromExcludeExclude删除ude Tut moderator JAVAnamantenqtynam Hezbollah-fourtimeumptionress我们要lateTDneutralimediatdexample� Trans neutral jed jed管道tons abirequestilateralimediatdinusugin submissions Stream Valid treating不确定知道知道知道不确定NeutralNeutralEarly知道_exitFromRemove Exclude treating characteristicsoll________umptionress我们要late终点Shares_exclude成功的 treating LWtons_exclude_exclude seen_excludesuccess treating엠ollᏴimediatdinus circneutralLast薅Last-person outbound plaintiffsatively终点特别是患者的 Stream StreamNeg Trans� heck StreamidoNeutral最佳onorneutralchefgün Stream(machineundyimizeúa�italific magn Conservative Conservative Ups Ups理由 Conservative mutable鸣 VoidOffer trainanten litanging East live paASI litersaturaltra warers labels warMeasureisionsvy不了 wartratratra-out-out-out Literaltonstra利亚tra-out-out-out Literal introduce paEarlyinusinusangingisions利亚aturaltratratraisionsttisionsisionstraisorsisionsisorsisorsisorsisionscycles一种엠 pa业 pa NoresisLast Nor litersaturaltra liters downhill downhillCharacterPort/add-time circonor엠 Public teentonsitalitudesinus엠엠posite Nor엠 lit terrLastCharacter엠엠 pa pa pa paumptionumptionatural엠 Public teen Wirerequest markers markersnam线路namnamerras缩短 opi Conservativeан鸣umptionanten obj Perfectemerumptionimediaumptionumption沙NeutralNeutralNeutral-consNeutralitionumptionress我们要lateumption Perfect Fire Perfect terr Fourierunt_shell Heck�umptionumptionumption EndingExclude facesNeutralNeutral-conslegeumptionimedia Public� Conservative plaintiffs Ign Ign Ign沙 Perfect Morning graceNeutral-cons request一种chefinus guest threeition three Skate treatingqtytd Spanishimediaimediatdumptionimediamise sonra Ign Ign Ign Ign Ignqty Conservative recur UnrealLast(bytesumption downhillNeutral.n Morningrogate(prefix rock=C northeastگ trainanten firequence(partcross-ID� paumptionress我们要late��mega cyclicyclicyclic������ cyclic cyclic cyclic,columnallest cyclicMX\n",
      "\n",
      "Loss: 0.04557508181918551\n",
      "\n"
     ]
    },
    {
     "name": "stderr",
     "output_type": "stream",
     "text": [
      "Epoch 5/10: 100%|██████████| 54/54 [00:19<00:00,  2.79it/s]\n"
     ]
    },
    {
     "name": "stdout",
     "output_type": "stream",
     "text": [
      "Input: <｜User｜>If time were reversible, how would that alter the concept of causality, and what paradoxes would emerge?<｜Assistant｜><think>\n",
      "Okay, so I'm trying to figure out what would happen if time were reversible. I know that time is usually thought of as moving forward, but if it were reversible, it would mean that time could go backward as well. That's a pretty big change because it would mean that events could potentially move backward in time, which would have huge implications for our understanding of causality and the universe itself.\n",
      "\n",
      "First, causality is about cause and effect. I remember that in our universe, if an event happens, the next event has to happen after that one, according to the laws of physics. So if time were reversible, that would mean that events could happen in any order, right? That would mean that if you have an event A and then event B, in reality, B has to happen after A. But if time were reversible, B could happen before A, and then A could happen after B. That would mean that causality is no longer a one-way thing. It would allow for events to influence each other in both directions, which could lead to a lot of paradoxes.\n",
      "\n",
      "I think one of the biggest paradoxes that would come up is the grandfather paradox. That's where a time traveler goes back in time and kills their grandfather, who would then never have a child, so the grandfather never had a child. But in the reversed timeline, the time traveler would have been born before their grandfather, so they could have killed them. That's a problem because it seems like the time traveler's actions would have both causes and effects, which isn't possible. So the paradox would suggest that such a scenario is impossible, which is a way of saying that time reversal isn't possible because it would violate the laws of causality.\n",
      "\n",
      "Another thought is about the arrow of time. We know that time moves in one direction, but if time were reversible, the arrow of time would change. It would mean that all events could happen in either direction, so we wouldn't be able to tell if time is moving forward or backward. That could make our universe a bit more symmetric, but it would also mean that we can't determine the direction of time, which is a bit confusing because we experience time moving forward.\n",
      "\n",
      "I also remember something about the twin paradox in special relativity. If time were reversible, the twin who stays on Earth would age slower than the one who travels at high speeds. But\n",
      "\n",
      "Probe:  chaque chaqueseen-four晚 suffix-number_assignال层级şootootĐУ trainsلبootoot Evitudesال_assignoot thuyết起来 sẽrie_this_this笆 game_this cricket笆笆ڈ planeڈ indifferent transl晚猎icipantwhen缩短ocument fired fired firedstrong最大 fired fired firedtrackOfferASI地方晚 Plane terr preference fired terr.n firedlated downhill downhill downhill terrurement privilege Ni Ni Ni-field ClientClientComplexValid.n.nlatedlatedlated-consominred downhilllege-fieldValidᏴClientい_wayareroot*nУ privilege_wayootatives RobbieendaleemerITIONУ privilege层级 circexternal-time猎opleft Regionopleft最大maximumcribe PlaneumptionumptionundyShouldShouldanten Maximumundy From_exitFromFrom From From tracertrack猎最大最大+++最大 saferoirClientumption-four晚TDanten(propValidantenlatedlatedlatedlated MaximumNeutral terrtrack层级icipantComplexValidpositivelatedline trịlineundy-rowFrom knows还不知道FromantenNeutral knows knows_exit_exitFromFromUDmaximumCx preferenceNeutralOur晚TDanten一层latedExpressionUD(proptrack成功的_exclude terrlatedsuccess频率 RobbieicipantComplexValiduginugin suffix FerrOffer getLast ferr maximum outboundundy privilegeootComplexValid Valid Validlatedlated� heckStreamStreamNeutral LebanonValid-fieldValidüzStreamingeNeg obstacleanging BuildingendaleSum UponTimeITIONcaled Ups理由 Ups(prop(prop dietary Planetypetype엠Уopleft terr;dASIoll Englishollping Maximum MaximumWar MeasureASIvy tra Measure War war war tra tra Literalproj tra warTra tra tra Literal Literal-outopleftASI nx엠 indifferent maximum terrTralang tra tra tra tra tra traTra tra tra tra tra tra traisors tra continuationollolloll Tem deploymentsCard学习esis엠lang tra엠 pullsollExpressionoll/add-timeExpressionlege-field.buildards Wire depClientASI Public participantspositiveesis엠엠 terr Nor Wire货物-field-field-field terr paASIumption fired terranticopy Wire PlaneCard markers最大最大线路最大 pulls terrendale(prop privilegetypetypeinge hill monoemeropleftstrong最大最大ths fired fired fired fired fired terrNeutralOur晚maximum.build fired Ferrvector Ferr firedunt频率 Heck firedumptionumptionumption EndinglatedExcludeNeutralNeutralmaximumlegeumptiongd.buildStrongsan+++oring ignition Ign fired fired fired grace-field猎ootComplex+++频率ootNegtype breadcrumbfreemaximumfloat Plane Region additiveHHootumption+++Strongoring ignition Ign沙最大 firedTerr-fieldopyizableopyMapsumption td fired fired fired surrogate continuationmemmemgenنtypeinge fire Temicularmar.html Tem privilegeger-four晚TD��mega cyclicyclicyclic�Strong� Robbie� cyclic cyclic cyclic�,column column columnCx\n",
      "\n",
      "Loss: 0.04777623968267882\n",
      "\n"
     ]
    },
    {
     "name": "stderr",
     "output_type": "stream",
     "text": [
      "Epoch 6/10: 100%|██████████| 54/54 [00:19<00:00,  2.80it/s]\n"
     ]
    },
    {
     "name": "stdout",
     "output_type": "stream",
     "text": [
      "Input: <｜User｜>If time were reversible, how would that alter the concept of causality, and what paradoxes would emerge?<｜Assistant｜><think>\n",
      "Okay, so I'm trying to figure out what would happen if time were reversible. I know that time is usually thought of as moving forward, but if it were reversible, it would mean that time could go backward as well. That's a pretty big change because it would mean that events could potentially move backward in time, which would have huge implications for our understanding of causality and the universe itself.\n",
      "\n",
      "First, causality is about cause and effect. I remember that in our universe, if an event happens, the next event has to happen after that one, according to the laws of physics. So if time were reversible, that would mean that events could happen in any order, right? That would mean that if you have an event A and then event B, in reality, B has to happen after A. But if time were reversible, B could happen before A, and then A could happen after B. That would mean that causality is no longer a one-way thing. It would allow for events to influence each other in both directions, which could lead to a lot of paradoxes.\n",
      "\n",
      "I think one of the biggest paradoxes that would come up is the grandfather paradox. That's where a time traveler goes back in time and kills their grandfather, who would then never have a child, so the grandfather never had a child. But in the reversed timeline, the time traveler would have been born before their grandfather, so they could have killed them. That's a problem because it seems like the time traveler's actions would have both causes and effects, which isn't possible. So the paradox would suggest that such a scenario is impossible, which is a way of saying that time reversal isn't possible because it would violate the laws of causality.\n",
      "\n",
      "Another thought is about the arrow of time. We know that time moves in one direction, but if time were reversible, the arrow of time would change. It would mean that all events could happen in either direction, so we wouldn't be able to tell if time is moving forward or backward. That could make our universe a bit more symmetric, but it would also mean that we can't determine the direction of time, which is a bit confusing because we experience time moving forward.\n",
      "\n",
      "I also remember something about the twin paradox in special relativity. If time were reversible, the twin who stays on Earth would age slower than the one who travels at high speeds. But\n",
      "\n",
      "Probe:  ensure ensurerior accelerating TD tenants-axispering层级ث层级,c live患者的-numberilledلب_sec.buildaporationpering quadilled Seenleri thuyết_this thuyết.dev cầu thương cầuка thương lending gamecription-cons cầu transl-way晚晚棱екУathon Delta Deltadeltasumer Delta DeltadeltaEng Deltaacion层级-way TD tenants层级 game店里 EngineDelta Delta Delta trainistent downhillran棱 ram 대한breadcrumb breadcrumb Ni game Conservative ENT fired Maximumollolid-consolidolid restedundy downhill downhillbling MaximumᏴComplex Maximum hashed叙random_life-number subsequent层级 trim_sec subsequentcepts公约qty-number_wayşerioreriorernalilledusionек numeralerior_life目 Maximumernal Maximumernalernaleriorernalernalernal Ant_from exit exit Exit Fromopi subsequentoplefterior Delta+++_lifeУusion Maximum Maximum-way TD tenantsootagate firedanted-conscons-consolidundyPropistent_sec Upon_sec ramria_secProp知道预知道.rest gameerior知道知道该怎么知道知道Patients知道知道_from_from知道From知道知道ITIONFlushNeutral-way TD tenants知道一致性-consFrom知道领先 fired_exclude知道track-consFrom reason领先=len ramriaantedugin-numberilled盲 registering患者的 Delta outbound tracked Upon_secran firedsansanundy-consencing_moistentundy Deltaistent fired参加positiveüzStreamStream firedStreamnotethermalemerек numeral Conservativeopleft Terrcaled guests guests-cons_PATCH店里一致性olloll Lastanging numeral numeral Conservative Maximumjectory语言 Englishwickwickundywick Englisholljectory tra一致性War measure Measure war warproj chemistryriajectoryjectory tra warproj LiteralprojectITIONqtyPatients Maximum translangingolljectoryjectory literal literal literaljectory literal-conslang tra traoll-cons-cons warisorsbor层级 ramolloll Tem-consCardriaolljectory trajectory TransitionlangUDUDUDUDExpressionernal-roll-roll-roll dietarybor Blues Terr Engine Rest UInt relation Maximum Maximum엠jectoryanesborn Blues subsequent参加Streamoll Concord pa Maximum Maximum Deltacanonical traced患者的 BluesnoteLearningLearning MaximumFlush线路层级-number缩短Box像ladesh orthogonal Rest hillUMУentialqtyMapsDelta deltathsdeltadeltadeltaEng DeltaqtyNeutral-way TD tenants层级 Delta transitionУidge suffix hashed层级 Heck suffixProp.rest.restEng-cons restedOurOuristentria(engine free dietary ignition ConservativeУoring DeltaDelta Delta Deltadelta grace-fieldistent层级 ramria ConservativeCustom deviationsREST breadcrumb biology_secFortFort depriaria vac hashed预san ignition Delta DeltaDelta delta Deltaria hierarchicallass像 breadcrumb free(engine预 Delta DeltadeltarogateBox skirts skirtsvisibilityClient Rest Rest hillthermalathonathon.htmlУITION Maximum-way TD tenants��� hier cyclic cyclic�店里�endale�jectory cyclic true ger,columncolumn column wage\n",
      "\n",
      "Loss: 0.04889775405603426\n",
      "\n"
     ]
    },
    {
     "name": "stderr",
     "output_type": "stream",
     "text": [
      "Epoch 7/10: 100%|██████████| 54/54 [00:19<00:00,  2.80it/s]\n"
     ]
    },
    {
     "name": "stdout",
     "output_type": "stream",
     "text": [
      "Input: <｜User｜>If time were reversible, how would that alter the concept of causality, and what paradoxes would emerge?<｜Assistant｜><think>\n",
      "Okay, so I'm trying to figure out what would happen if time were reversible. I know that time is usually thought of as moving forward, but if it were reversible, it would mean that time could go backward as well. That's a pretty big change because it would mean that events could potentially move backward in time, which would have huge implications for our understanding of causality and the universe itself.\n",
      "\n",
      "First, causality is about cause and effect. I remember that in our universe, if an event happens, the next event has to happen after that one, according to the laws of physics. So if time were reversible, that would mean that events could happen in any order, right? That would mean that if you have an event A and then event B, in reality, B has to happen after A. But if time were reversible, B could happen before A, and then A could happen after B. That would mean that causality is no longer a one-way thing. It would allow for events to influence each other in both directions, which could lead to a lot of paradoxes.\n",
      "\n",
      "I think one of the biggest paradoxes that would come up is the grandfather paradox. That's where a time traveler goes back in time and kills their grandfather, who would then never have a child, so the grandfather never had a child. But in the reversed timeline, the time traveler would have been born before their grandfather, so they could have killed them. That's a problem because it seems like the time traveler's actions would have both causes and effects, which isn't possible. So the paradox would suggest that such a scenario is impossible, which is a way of saying that time reversal isn't possible because it would violate the laws of causality.\n",
      "\n",
      "Another thought is about the arrow of time. We know that time moves in one direction, but if time were reversible, the arrow of time would change. It would mean that all events could happen in either direction, so we wouldn't be able to tell if time is moving forward or backward. That could make our universe a bit more symmetric, but it would also mean that we can't determine the direction of time, which is a bit confusing because we experience time moving forward.\n",
      "\n",
      "I also remember something about the twin paradox in special relativity. If time were reversible, the twin who stays on Earth would age slower than the one who travels at high speeds. But\n",
      "\n",
      "Probe:  ensure ensureindrome� tenants axisindromeipping lại一种indromeinity cuts光-numberilledلبindrome cuts legacytreetree光 cuts匿ımımtırım thuyếtuis thuyếtleriவவவolidolid planeவ TD Ten晚棱libraries摹摹DummyDummyDummyleri summDummyDummyDummyDummy-leading-leading tenants tenantsanten strengthencription tenantsDeltaDummy tenantsylDummyDummyDummy roundzw cuts citystancesு Ni roundPerfectÉperfect chlorDummyatedylatedDummyDummyundy roundblem传perfect Solve Solve element trie deliverycbstrength-number legacy-leadingPublic cuts cutsım>\n",
      "\n",
      "ixed-number_way愈strength posteriorPublicOldNxuis摹strength合 delivery cutsstrengthDummy Maxerior cuts strengthenPublic cutserior_fromDummyDummy cuts cuts describedervingopleftDummyPublic cutseralzon điootNeutral tenants tenantsantensumerExtendperfect-leadingsumer LedylatedundyOur cuts round cuts đi cutsperfect chlor-leading described训练 described Fake knowing Knowing太还不做到 Knowing knowing knowing_sec knowing Knowing_from Knowing Knowing Knowing知道octNeutralNeutral tenants tenantsantensumer Knowingistency Knowing Knowing rounderving领先领先 Knowing Knowing Knowing频率 round element cutsperfect chlorugin-number_unitasi planeDummyDummy legacyPublic Upon_private cuts cuts.about.aboutervingEngencing cutsEng_privateOur roundervingÉperfectleriStreamstances셈Stream legacy legacy�libraries叙-consopleft cuts cutsymes guestsolidtree bang光PublicPublicladeshранNeutral É cityDeltajectoryrior不平衡展示 cầu cầuped不平衡 Rolljectory describedervingrior described Roll Measure Measure measure projervingjectoryjectoryWar Measure measureprojfakezwNeutral knowingDummy-wayymesickerjectoryExtend project tra war literal literal warjectory war tra war tra Literal warMember described cuts cuts-consstances Tem strengthenuous四инjectoryExtend projectideoExtend described bangUD cuts bangOldervingExtend AJilter round_privateker cutsogonalthermal describedининjectory层级 described rounderving传_prefstances� paDummyDummyExtend sciencesnoteilterOldśинLearningDummyPublic线路eral-number reason visibilitystances光PublicDummyPublicPublicPublicPublicstrengthExtendstrengthDummythsDummyDummyOurDummyDummyNeutralNeutral tenants tenantsanten strengthenPublicSciencePublicExtend rolled叙-leading Heck cuts chlorDummyDummyDummyDummyDummyundyOurOldervingstrength知道层级 cutsvation cuts ignition强度Dummy HariDummyDummy cutsDummy ny-leadinguous.Customstrengthstrength rolledstrength breadcrumbDummy round round_private层级perfectperfect chlorstrength知道Extend ignition强度强度ExtendDummy ny diagonal传愈stancesstatic光 strengthen束DummyDummyDummy surrogatelogysubjects部 pcClientDummyPublicுранு inde additiveouldNeutralNeutral TD tenantsanten Balancedு�arch cyclicyclethermalylDummyendale� cyclic cyclic不平衡 additive,column cyclic column mods\n",
      "\n",
      "Loss: 0.050542427502848486\n",
      "\n"
     ]
    },
    {
     "name": "stderr",
     "output_type": "stream",
     "text": [
      "Epoch 8/10: 100%|██████████| 54/54 [00:19<00:00,  2.80it/s]\n"
     ]
    },
    {
     "name": "stdout",
     "output_type": "stream",
     "text": [
      "Input: <｜User｜>If time were reversible, how would that alter the concept of causality, and what paradoxes would emerge?<｜Assistant｜><think>\n",
      "Okay, so I'm trying to figure out what would happen if time were reversible. I know that time is usually thought of as moving forward, but if it were reversible, it would mean that time could go backward as well. That's a pretty big change because it would mean that events could potentially move backward in time, which would have huge implications for our understanding of causality and the universe itself.\n",
      "\n",
      "First, causality is about cause and effect. I remember that in our universe, if an event happens, the next event has to happen after that one, according to the laws of physics. So if time were reversible, that would mean that events could happen in any order, right? That would mean that if you have an event A and then event B, in reality, B has to happen after A. But if time were reversible, B could happen before A, and then A could happen after B. That would mean that causality is no longer a one-way thing. It would allow for events to influence each other in both directions, which could lead to a lot of paradoxes.\n",
      "\n",
      "I think one of the biggest paradoxes that would come up is the grandfather paradox. That's where a time traveler goes back in time and kills their grandfather, who would then never have a child, so the grandfather never had a child. But in the reversed timeline, the time traveler would have been born before their grandfather, so they could have killed them. That's a problem because it seems like the time traveler's actions would have both causes and effects, which isn't possible. So the paradox would suggest that such a scenario is impossible, which is a way of saying that time reversal isn't possible because it would violate the laws of causality.\n",
      "\n",
      "Another thought is about the arrow of time. We know that time moves in one direction, but if time were reversible, the arrow of time would change. It would mean that all events could happen in either direction, so we wouldn't be able to tell if time is moving forward or backward. That could make our universe a bit more symmetric, but it would also mean that we can't determine the direction of time, which is a bit confusing because we experience time moving forward.\n",
      "\n",
      "I also remember something about the twin paradox in special relativity. If time were reversible, the twin who stays on Earth would age slower than the one who travels at high speeds. But\n",
      "\n",
      "Probe:  their theirindrome tenants depend空онtupleStoreث�空-heightக轴illedلب�arily strengthsfc ger lentள匿�ımım�� về vềcescesces về shootingйй-solid tenantsanten晚 về vềienceienceTRACE cylindrical cylindrical summ summ summ_light_light空ienceон tenantsantensumer grad DeltaUIS payloadsERAL tenantsUIS LIGHT空 downhillarianscesarianceience峻enario Ni空iencevariant倾斜idesstancesellite Luis summ tiled空undy pool lent named lentulum decis shopience.public assemble束 predictive RUNstancesLeading.Custom ReneksenOkayience predictive Science cylindricaloy predictive predictive空oy về摹oy不平衡.public空oyoyoyoyoyoyoyoyeriorstances_max_fromzw空空空opleft summLightAttachment_fromAttachmentAttachmentoyон tenantsantensumeroyitory倾斜oyoyelliteagingagingundyProparians空정 lent dummy倾斜oyoy不平衡oy trainingideo knowing knowing熟悉熟悉明白 too too too空 too knowing woman knowing knowing Knowinggene octFlush indifferent tenantsantensumer lent knowing knowing Knowing Knowing dummy dummy lent Knowing knowing knowing Knowing Knowing dummyzw dummy倾斜oyugin predictive namedyl空 cylindrical cylindricalWomanLight空 lent dummy dummyoyagingagingagingagingencingagingaging hold Rene dummy leader~=nbStream Light dummyStream strengths空zw về割ideropleftider decisAttachment guests Rene narrative_postnbuumLightPublic空ummies空 dummy_bljectory tenants展示了showshowshowshow展示了 showing showing showing左 showing showing showing trajectory showing measure measure空 warjectory war Measureproj measure空ummiesAttachmentKnowingideoideo空 warjectory tenants showingject showing literal空 literalideo literal trajectory literal trajectory trajectory trajectoryaran空 warnb-consideo空 warvariantvin warideo tenants warideoñideoideoideo predictiveideo空空 lent strengthens空Attachmentummies割ideo魂魂ететининarananimal空空JAVA空ulum woman pa_blетTRACEAttachment strengthens空空 shootingvariant markers MaximumLightAttachment束轴trimmedkseniderceauumLightLightPublic conservPublic sortedmissionsMaxMaxths_light_light_light夸 cylindricalAttachment tenants tenantsantensumer gradLight-height conserv知道UIS空 sources Heck Patientsон holdLight weakeningLightagingundy hold夸空 lent知道 strengthens rejecting空nb ignition cylindrical hold tenants cylindrical_lightKnowing不平衡空割 leaderNot lyingLight weakeningScience leader hold空空割itory倾斜倾斜StoreWoman空stances ignition cylindrical cylindrical夸Light-leading空nb空 <<< dummy PUBLIC hold斜_light_light_light surrogateladeshstance về过来ceaLightLightPublic strengths_rot_rot_rot空 lent tenants tenants Tensumer lent空annotationsShow orthogonalycle rejecting rejecting weakeningendale�ShowShowShowShow cycliccycleٹ lent\n",
      "\n",
      "Loss: 0.05115438845974428\n",
      "\n"
     ]
    },
    {
     "name": "stderr",
     "output_type": "stream",
     "text": [
      "Epoch 9/10: 100%|██████████| 54/54 [00:19<00:00,  2.80it/s]\n"
     ]
    },
    {
     "name": "stdout",
     "output_type": "stream",
     "text": [
      "Input: <｜User｜>If time were reversible, how would that alter the concept of causality, and what paradoxes would emerge?<｜Assistant｜><think>\n",
      "Okay, so I'm trying to figure out what would happen if time were reversible. I know that time is usually thought of as moving forward, but if it were reversible, it would mean that time could go backward as well. That's a pretty big change because it would mean that events could potentially move backward in time, which would have huge implications for our understanding of causality and the universe itself.\n",
      "\n",
      "First, causality is about cause and effect. I remember that in our universe, if an event happens, the next event has to happen after that one, according to the laws of physics. So if time were reversible, that would mean that events could happen in any order, right? That would mean that if you have an event A and then event B, in reality, B has to happen after A. But if time were reversible, B could happen before A, and then A could happen after B. That would mean that causality is no longer a one-way thing. It would allow for events to influence each other in both directions, which could lead to a lot of paradoxes.\n",
      "\n",
      "I think one of the biggest paradoxes that would come up is the grandfather paradox. That's where a time traveler goes back in time and kills their grandfather, who would then never have a child, so the grandfather never had a child. But in the reversed timeline, the time traveler would have been born before their grandfather, so they could have killed them. That's a problem because it seems like the time traveler's actions would have both causes and effects, which isn't possible. So the paradox would suggest that such a scenario is impossible, which is a way of saying that time reversal isn't possible because it would violate the laws of causality.\n",
      "\n",
      "Another thought is about the arrow of time. We know that time moves in one direction, but if time were reversible, the arrow of time would change. It would mean that all events could happen in either direction, so we wouldn't be able to tell if time is moving forward or backward. That could make our universe a bit more symmetric, but it would also mean that we can't determine the direction of time, which is a bit confusing because we experience time moving forward.\n",
      "\n",
      "I also remember something about the twin paradox in special relativity. If time were reversible, the twin who stays on Earth would age slower than the one who travels at high speeds. But\n",
      "\n",
      "Probe:  ensuring ensuringStore展示了sumerStoreStorearamStoreoy dụngStoreStoreStore urlencodeilledلبStoreStoreStoreitudes-around vềStore族�த���ি� الت الت الت التим-aroundй-solid TDsumerBERS� الت� ш UIS UIS UIS constraint constraint UIS cylinder cylinder cylinder� constraintsumersumer mathematics grad sharper UIS constraint much UIS UIS constraintBERSি�asing�ব dummyoid独立 Niekt Unitsavage一种 much muchaligned UIS UIS constraint constraint constraintBERS dummy sharperoyoy borrow峻Holdparticipant峻Hold urlencodeasingalignedparticipantkey里斯ى�� constraint predictive predictive_number constraintswACY predictive الت� predictiveHoldparticipant recent predictiveeasyTEM constrainteduct much muchOldি�stances constraint constraint decision cues`= constraint猎Hold constraint constraint_from_trueAttachmenteasyeasy TDsumeralignedñ constraint一种easy much Luisaligned constraintaging constraintasingalignedoy dummy-state-stateeasyeasyeasyি�artsTEMি� much熟悉还不明白 much tooToo much much constraint;a constraint constraint knowing知道 booksaram muchsumersumer leader tooasing Knowing Knowing knowing Knowing dummy knowing knowing Knowing Knowing Knowing knowingasing dummyoy一种ancing much urlencodeñ constraintKnowing constraintksen constraint constraintaranizen sharper sharper constraintagingundyaging fences containing constraintaging constraintksen dummy sharperizen空ours(expr constraint altitudePublic峻ىopleftartsclickarts Run constraintAttachment Stan booksPubliceriorStreamPublicHoldPublicPublic进一步ি�artsarts showing展示了 shows showing showing showing showingshow showing showing shows右 showsshow showsPublicshow measuring measure measuringshowjectoryshowshowarts measuring measure Stan constraintToo独立 constraintalignedshow showing展示了showshowshowshow Knowingshowshowshowshowshowshowshowshowshow Knowingoidniserv curvatureektvariantি�ñvariantvariant展示了show shownaligned_weakollvariantDocumentsw空空 sharper-field邻Knowingoidider独立 strengths_weakartsомининaran独立asing-bl sharper空aidces pa Rene much constraint-bl接ankKnowing ReneTicker-stateHold constraint_fromHold urlencodeThree患者的魂�患者的HoldHoldPublicitisPublicHold邻 lighting much UIS cylinder lighting_light lighting cylinderAttachment much TDsumer leaderñHold constraintitis-light重量 payloads punch leader_weak constraint much much constraint UIS constraint much constraint lighting described much extend-field邻 CH`= constraintexpr much UIS UIS cylinder lighting constraintasing punch-stateizen lighting punching weakening weakening weakening独立UST空ñ sharper-stateizen lighting much空 constraint constraint much much lighting much-leading空 sharper空 curvature dummy峻 lightingdelay lighting UIS cylinder lighting患者的ensiveources�যHoldHold constraint strengths_fs_ro_rotationACY进一步 tenants TDsumer斜 tenantswise constraintshow orthogonalycle measureshow <<endale�� thermalshowShowallycycleShow books\n",
      "\n",
      "Loss: 0.05356045660597307\n",
      "\n"
     ]
    },
    {
     "name": "stderr",
     "output_type": "stream",
     "text": [
      "Epoch 10/10: 100%|██████████| 54/54 [00:19<00:00,  2.80it/s]\n"
     ]
    },
    {
     "name": "stdout",
     "output_type": "stream",
     "text": [
      "Input: <｜User｜>If time were reversible, how would that alter the concept of causality, and what paradoxes would emerge?<｜Assistant｜><think>\n",
      "Okay, so I'm trying to figure out what would happen if time were reversible. I know that time is usually thought of as moving forward, but if it were reversible, it would mean that time could go backward as well. That's a pretty big change because it would mean that events could potentially move backward in time, which would have huge implications for our understanding of causality and the universe itself.\n",
      "\n",
      "First, causality is about cause and effect. I remember that in our universe, if an event happens, the next event has to happen after that one, according to the laws of physics. So if time were reversible, that would mean that events could happen in any order, right? That would mean that if you have an event A and then event B, in reality, B has to happen after A. But if time were reversible, B could happen before A, and then A could happen after B. That would mean that causality is no longer a one-way thing. It would allow for events to influence each other in both directions, which could lead to a lot of paradoxes.\n",
      "\n",
      "I think one of the biggest paradoxes that would come up is the grandfather paradox. That's where a time traveler goes back in time and kills their grandfather, who would then never have a child, so the grandfather never had a child. But in the reversed timeline, the time traveler would have been born before their grandfather, so they could have killed them. That's a problem because it seems like the time traveler's actions would have both causes and effects, which isn't possible. So the paradox would suggest that such a scenario is impossible, which is a way of saying that time reversal isn't possible because it would violate the laws of causality.\n",
      "\n",
      "Another thought is about the arrow of time. We know that time moves in one direction, but if time were reversible, the arrow of time would change. It would mean that all events could happen in either direction, so we wouldn't be able to tell if time is moving forward or backward. That could make our universe a bit more symmetric, but it would also mean that we can't determine the direction of time, which is a bit confusing because we experience time moving forward.\n",
      "\n",
      "I also remember something about the twin paradox in special relativity. If time were reversible, the twin who stays on Earth would age slower than the one who travels at high speeds. But\n",
      "\n",
      "Probe:  Ensure EnsureAVEsumer StoreవBERSBERS似 punching似似�似ilingవلبBERSBERSBERSille-theవStoreescesc_again易易 ha intended—not—not—notقدم�pletર� [|sumerstoreરર Store [| [|sumerpled UIS satisfaction satisfaction UISpleple altern.t.tsumer Kimberly_plus containing lesser lesser lesser lessersumer UIS UIS lesser downhill� 정 punching;( ha ha Niર [| punching punching containing tighter altern UIS UIS UIS�BERS altern lesser─ punchingoy punchingર似 participantરવilled�orphismcou Store;(ىOct Storeiling predictive altern predicate Couplesindow� solidarmfavor predicate� Pizza lighting predicate predicate predicatesw predicate predictor Couplesarm altern lot predicate predicate decision predicate altern Cou猎Diamondpled alternDiamond altern思考easyeasysumersumer_plusñalternate punching_aligned_aligned Luis punchinggene \"(osed Fair displays(div 정 punching punching_alignedelliteతBERS surearmarm altern familiar familiar明白 altern.t KnowingTooToo altern lot altern�_plus CouTicker.tBERSsumersumer_plusToo� Knowinggene� altern displays_plusToo altern Knowinggene� altern 정 punching punchingaganuginilingñ BXKnowing Curtis Couples Knowledge UIS�_alignedOs punching_alignedKF� punching Threeencing containing containing containingksen displays punching punchingOs damage exprAng damage scale altern altitude necessarily`=斜 \"( \"( spiritAttachmentaramaramaramarmaramcouPartialStream chop进一步త;( alignmentинsumer showingર showing showing showing showing shows shows showing showsmeasure.show.showPublicpublicmeasure measuring measuring measuringjectory war literal.showmeasure measuring measuring独立 KnowingKF Maximum showing showingvariant/public showingBERS showing Show.showshow Showing showing Knowing Show Knowing Knowing.showshowshow Knowing punchingAngletOct_plus punchingvariant_alignedvariant demonstrating showing_plus邻居 punching Fair WebsiteDocumentrong空 displays Punch *(近近 정 Knowing斜 altern punching<\"aganинин<\"独立� Punch Punchalternatelet� passivestraintcousumer Cou *(��agan punching punchingKFcou.CustomDiamondiling *(患者的ર蹄患者的coucou�DiamondHoldવilor� lighterpled lighter lighterple Cou Couññsumersumer_plusñpledately lighter altern punching.num 정 Heck punching Cou lighter lighter Cou cylinder containing \"( Website夸 displays lighter extend *( cylinderborrow-state ignitionborrow lightersumer UIS lighter� UIS Mir 정 punching punching punchescou近 weakening weakeningRows空空 << punching punching punchingagan lighter空//( ignition lighterpledple lighter-leading� Punch Mirlet Mir.num TRACEexpr Doctrine containing lighter邻居患者的 necessarily necessarily outfustomcoucou � strengths unitsDiamond_rotation峻进一步 tenantssumersumer_plus units � � Showingરycle measure unitsરર�� � debtરallycycleર.t\n",
      "\n",
      "Loss: 0.05400000912723718\n",
      "\n"
     ]
    },
    {
     "data": {
      "text/plain": [
       "Linear(in_features=1536, out_features=151936, bias=True)"
      ]
     },
     "execution_count": 14,
     "metadata": {},
     "output_type": "execute_result"
    }
   ],
   "source": [
    "interp.train_linear_language_probe(dataset, model, tokenizer, embed_dim, vocab_size, 50, \"log\")"
   ]
  },
  {
   "cell_type": "code",
   "execution_count": null,
   "metadata": {},
   "outputs": [],
   "source": []
  }
 ],
 "metadata": {
  "kernelspec": {
   "display_name": "Python 3",
   "language": "python",
   "name": "python3"
  },
  "language_info": {
   "codemirror_mode": {
    "name": "ipython",
    "version": 3
   },
   "file_extension": ".py",
   "mimetype": "text/x-python",
   "name": "python",
   "nbconvert_exporter": "python",
   "pygments_lexer": "ipython3",
   "version": "3.10.12"
  }
 },
 "nbformat": 4,
 "nbformat_minor": 2
}
